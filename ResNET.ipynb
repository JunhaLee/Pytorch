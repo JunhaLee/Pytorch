{
 "cells": [
  {
   "cell_type": "code",
   "execution_count": 1,
   "id": "187c80de",
   "metadata": {},
   "outputs": [],
   "source": [
    "import torch\n",
    "import torchvision.transforms as transforms \n",
    "import torch.nn.init\n",
    "from torchsummary import summary as summary_\n",
    "import json\n",
    "from PIL import Image\n",
    "import numpy as np\n",
    "import matplotlib.pyplot as plt\n",
    "import os\n",
    "import glob\n",
    "import torch.nn as nn\n",
    "import torch.optim as optim\n",
    "import torch.nn.functional as F\n",
    "from torch.utils import data\n",
    "import torchvision.datasets as datasets"
   ]
  },
  {
   "cell_type": "code",
   "execution_count": 2,
   "id": "c93ea895",
   "metadata": {},
   "outputs": [],
   "source": [
    "#Train data 받아오기\n",
    "class_num = list(0. for i in range(5))\n",
    "\n",
    "path_dir = 'aug_json' #Parse 폴더에서 파일명 불러오기\n",
    "file_list_train = os.listdir(path_dir)"
   ]
  },
  {
   "cell_type": "code",
   "execution_count": 3,
   "id": "bd3883ed",
   "metadata": {},
   "outputs": [],
   "source": [
    "TRAIN_SIZE = len(file_list_train)\n",
    "label = [0 for i in range(TRAIN_SIZE)] #list형\n",
    "path_dir_img = 'aug_all'\n",
    "\n",
    "def make_file_list():\n",
    "    #train_img_list = [0 for i in range(len(file_list_train))]\n",
    "    train_img_list = [0 for i in range(TRAIN_SIZE)]\n",
    "    cnt = 0\n",
    "    #for i in file_list_train:\n",
    "    for i in range(TRAIN_SIZE):\n",
    "    \n",
    "        with open(path_dir +'/'+ file_list_train[cnt], \"r\") as st_json:\n",
    "            load_data = json.load(st_json)\n",
    "\n",
    "        category = load_data.get('category_id') #class 찾아오기\n",
    "        class_num[category]+=1\n",
    "        #print(category)\n",
    "        str = file_list_train[cnt].split('.')[0]\n",
    "        train_img_list[cnt] = path_dir_img +'/'+ str+\".jpg\" #이미지파일 파일명 생성\n",
    "        label[cnt] = category\n",
    "\n",
    "        cnt+=1\n",
    "\n",
    "    return train_img_list\n"
   ]
  },
  {
   "cell_type": "code",
   "execution_count": 4,
   "id": "87e644a8",
   "metadata": {},
   "outputs": [],
   "source": [
    "class ImageTransform():\n",
    "\n",
    "    def __init__(self):\n",
    "        \n",
    "        self.data_transform = transforms.Compose([\n",
    "            #transforms.CenterCrop(720),\n",
    "            #transforms.Resize(256),\n",
    "            #transforms.Normalize([train_meanR, train_meanG, train_meanB], [train_stdR, train_stdG, train_stdB]),\n",
    "            transforms.ToTensor(),\n",
    "        ])\n",
    "        \n",
    "\n",
    "    def __call__(self, img):\n",
    "        return self.data_transform(img)"
   ]
  },
  {
   "cell_type": "code",
   "execution_count": 5,
   "id": "a32d5d2a",
   "metadata": {},
   "outputs": [],
   "source": [
    "class Img_Dataset(data.Dataset):\n",
    "\n",
    "    def __init__(self, file_list, transform):\n",
    "        self.file_list = file_list\n",
    "        self.transform = transform\n",
    "\n",
    "    def __len__(self):\n",
    "        return len(self.file_list)\n",
    "\n",
    "    def __getitem__(self, index):\n",
    "        img_path = self.file_list[index]\n",
    "        img = Image.open(img_path)\n",
    "        img_transformed = self.transform(img)\n",
    "        img_label = label[index]\n",
    "\n",
    "        return img_transformed,img_label"
   ]
  },
  {
   "cell_type": "code",
   "execution_count": 6,
   "id": "8d426b40",
   "metadata": {},
   "outputs": [],
   "source": [
    "train_img_list=make_file_list()"
   ]
  },
  {
   "cell_type": "code",
   "execution_count": 7,
   "id": "3503db0d",
   "metadata": {},
   "outputs": [
    {
     "name": "stdout",
     "output_type": "stream",
     "text": [
      "840.0\n",
      "19936.0\n",
      "80872.0\n",
      "29216.0\n",
      "1816.0\n"
     ]
    }
   ],
   "source": [
    "for i in range(5):\n",
    "    print(class_num[i])"
   ]
  },
  {
   "cell_type": "code",
   "execution_count": 8,
   "id": "fd87c299",
   "metadata": {},
   "outputs": [],
   "source": [
    "train_dataset = Img_Dataset(file_list=train_img_list,\n",
    "                            transform=ImageTransform())"
   ]
  },
  {
   "cell_type": "code",
   "execution_count": 9,
   "id": "aa15fbd8",
   "metadata": {},
   "outputs": [
    {
     "name": "stdout",
     "output_type": "stream",
     "text": [
      "Dataloader created\n"
     ]
    }
   ],
   "source": [
    "train_dataloader = data.DataLoader(train_dataset,\n",
    "                                   batch_size=128,\n",
    "                                   shuffle=True,\n",
    "                                   drop_last=True)\n",
    "print('Dataloader created')"
   ]
  },
  {
   "cell_type": "code",
   "execution_count": 10,
   "id": "e8e93b89",
   "metadata": {},
   "outputs": [],
   "source": [
    "path_dir = 'LJH/data/product_data/val/Item-Parse_f'\n",
    "path_dir_img = 'valid'\n",
    "file_list_val = os.listdir(path_dir)\n",
    "Val_size = len(file_list_val)\n",
    "label_val = [0 for i in range(Val_size)] \n",
    "def make_file_list_val():\n",
    "    val_img_list = [0 for i in range(Val_size)]\n",
    "    cnt = 0\n",
    "    #for i in file_list_test:\n",
    "    for i in range(Val_size):\n",
    "    \n",
    "        with open(path_dir +'/'+ file_list_val[cnt], \"r\") as st_json:\n",
    "            load_data = json.load(st_json)\n",
    "\n",
    "        category = load_data.get('category_id') #class 찾아오기\n",
    "        #print(category)\n",
    "        str = file_list_val[cnt].split('.')[0]\n",
    "        val_img_list[cnt] = path_dir_img +'/'+ str+\".jpg\" #이미지파일 파일명 생성\n",
    "        label_val[cnt] = category\n",
    "\n",
    "        cnt+=1\n",
    "\n",
    "    return val_img_list"
   ]
  },
  {
   "cell_type": "code",
   "execution_count": 11,
   "id": "0e0c1e27",
   "metadata": {},
   "outputs": [],
   "source": [
    "class Img_Dataset(data.Dataset):\n",
    "\n",
    "    def __init__(self, file_list, transform):\n",
    "        self.file_list = file_list\n",
    "        self.transform = transform\n",
    "\n",
    "    def __len__(self):\n",
    "        return len(self.file_list)\n",
    "\n",
    "    def __getitem__(self, index):\n",
    "        img_path = self.file_list[index]\n",
    "        img = Image.open(img_path)\n",
    "        img_transformed = self.transform(img)\n",
    "        img_label = label_val[index]\n",
    "\n",
    "        return img_transformed,img_label"
   ]
  },
  {
   "cell_type": "code",
   "execution_count": 12,
   "id": "7fa579c2",
   "metadata": {},
   "outputs": [],
   "source": [
    "val_img_list=make_file_list_val()"
   ]
  },
  {
   "cell_type": "code",
   "execution_count": 13,
   "id": "5c90e33a",
   "metadata": {},
   "outputs": [],
   "source": [
    "val_dataset = Img_Dataset(file_list=val_img_list, transform=ImageTransform())"
   ]
  },
  {
   "cell_type": "code",
   "execution_count": 14,
   "id": "69cafffa",
   "metadata": {},
   "outputs": [],
   "source": [
    "val_dataloader = data.DataLoader(val_dataset,\n",
    "                                   batch_size=128,\n",
    "                                   shuffle=False,\n",
    "                                   drop_last=True)"
   ]
  },
  {
   "cell_type": "code",
   "execution_count": 15,
   "id": "7134978a",
   "metadata": {},
   "outputs": [],
   "source": [
    "batch_iterator = iter(train_dataloader)\n",
    "images = next(batch_iterator)"
   ]
  },
  {
   "cell_type": "code",
   "execution_count": 16,
   "id": "fbaa7199",
   "metadata": {},
   "outputs": [
    {
     "name": "stdout",
     "output_type": "stream",
     "text": [
      "cuda\n"
     ]
    }
   ],
   "source": [
    "device = torch.device('cuda' if torch.cuda.is_available() else 'cpu')\n",
    "print(device)"
   ]
  },
  {
   "cell_type": "code",
   "execution_count": 17,
   "id": "93765a09",
   "metadata": {},
   "outputs": [],
   "source": [
    "class BasicBlock(nn.Module):\n",
    "    expansion = 1\n",
    "    def __init__(self, in_channels, out_channels, stride=1):\n",
    "        super().__init__()\n",
    "        self.residual_function = nn.Sequential(\n",
    "            nn.Conv2d(in_channels, out_channels, kernel_size=3, stride=stride, padding=1, bias=False),\n",
    "            nn.BatchNorm2d(out_channels),\n",
    "            nn.LeakyReLU(0.2),\n",
    "            nn.Conv2d(out_channels, out_channels * BasicBlock.expansion, kernel_size=3, stride=1, padding=1, bias=False),\n",
    "            nn.BatchNorm2d(out_channels * BasicBlock.expansion),\n",
    "        )\n",
    "\n",
    "        self.shortcut = nn.Sequential()\n",
    "        self.relu = nn.LeakyReLU(0.2)\n",
    "        \n",
    "        if stride != 1 or in_channels != BasicBlock.expansion * out_channels:\n",
    "            self.shortcut = nn.Sequential(\n",
    "                nn.Conv2d(in_channels, out_channels * BasicBlock.expansion, kernel_size=1, stride=stride, bias=False),\n",
    "                nn.BatchNorm2d(out_channels * BasicBlock.expansion)\n",
    "            )\n",
    "\n",
    "    def forward(self, x):\n",
    "        x = self.residual_function(x) + self.shortcut(x)\n",
    "        x = self.relu(x)\n",
    "        return x\n",
    "\n",
    "\n",
    "class BottleNeck(nn.Module):\n",
    "    expansion = 4\n",
    "    def __init__(self, in_channels, out_channels, stride=1):\n",
    "        super().__init__()\n",
    "\n",
    "        self.residual_function = nn.Sequential(\n",
    "            nn.Conv2d(in_channels, out_channels, kernel_size=1, stride=1, bias=False),\n",
    "            nn.BatchNorm2d(out_channels),\n",
    "            nn.LeakyReLU(0.2),\n",
    "            nn.Conv2d(out_channels, out_channels, kernel_size=3, stride=stride, padding=1, bias=False),\n",
    "            nn.BatchNorm2d(out_channels),\n",
    "            nn.LeakyReLU(0.2),\n",
    "            nn.Conv2d(out_channels, out_channels * BottleNeck.expansion, kernel_size=1, stride=1, bias=False),\n",
    "            nn.BatchNorm2d(out_channels * BottleNeck.expansion),\n",
    "        )\n",
    "\n",
    "        self.shortcut = nn.Sequential()\n",
    "\n",
    "        self.relu = nn.ReLU()\n",
    "\n",
    "        if stride != 1 or in_channels != out_channels * BottleNeck.expansion:\n",
    "            self.shortcut = nn.Sequential(\n",
    "                nn.Conv2d(in_channels, out_channels*BottleNeck.expansion, kernel_size=1, stride=stride, bias=False),\n",
    "                nn.BatchNorm2d(out_channels*BottleNeck.expansion)\n",
    "            )\n",
    "            \n",
    "    def forward(self, x):\n",
    "        x = self.residual_function(x) + self.shortcut(x)\n",
    "        x = self.relu(x)\n",
    "        return x"
   ]
  },
  {
   "cell_type": "code",
   "execution_count": 18,
   "id": "c3f3b068",
   "metadata": {},
   "outputs": [],
   "source": [
    "class ResNet(nn.Module):\n",
    "    def __init__(self, block, num_block, num_classes=5, init_weights=True):\n",
    "        super().__init__()\n",
    "\n",
    "        self.in_channels=64\n",
    "\n",
    "        self.conv1 = nn.Sequential(\n",
    "            nn.Conv2d(3, 64, kernel_size=7, stride=2, padding=3, bias=False),\n",
    "            nn.BatchNorm2d(64),\n",
    "            nn.ReLU(),\n",
    "            nn.MaxPool2d(kernel_size=3, stride=2, padding=1)\n",
    "        )\n",
    "\n",
    "        self.conv2_x = self._make_layer(block, 64, num_block[0], 1)\n",
    "        self.conv3_x = self._make_layer(block, 128, num_block[1], 2)\n",
    "        self.conv4_x = self._make_layer(block, 256, num_block[2], 2)\n",
    "        self.conv5_x = self._make_layer(block, 512, num_block[3], 2)\n",
    "\n",
    "        self.avg_pool = nn.AdaptiveAvgPool2d((1,1))\n",
    "        self.fc = nn.Linear(512 * block.expansion, num_classes)\n",
    "\n",
    "        # weights inittialization\n",
    "        if init_weights:\n",
    "            self._initialize_weights()\n",
    "\n",
    "    def _make_layer(self, block, out_channels, num_blocks, stride):\n",
    "        strides = [stride] + [1] * (num_blocks - 1)\n",
    "        layers = []\n",
    "        for stride in strides:\n",
    "            layers.append(block(self.in_channels, out_channels, stride))\n",
    "            self.in_channels = out_channels * block.expansion\n",
    "\n",
    "        return nn.Sequential(*layers)\n",
    "\n",
    "    def forward(self,x):\n",
    "        output = self.conv1(x)\n",
    "        output = self.conv2_x(output)\n",
    "        x = self.conv3_x(output)\n",
    "        x = self.conv4_x(x)\n",
    "        x = self.conv5_x(x)\n",
    "        x = self.avg_pool(x)\n",
    "        x = x.view(x.size(0), -1)\n",
    "        x = self.fc(x)\n",
    "        return x\n",
    "\n",
    "    # define weight initialization function\n",
    "    def _initialize_weights(self):\n",
    "        for m in self.modules():\n",
    "            if isinstance(m, nn.Conv2d):\n",
    "                nn.init.kaiming_normal_(m.weight, mode='fan_out', nonlinearity='relu')\n",
    "                if m.bias is not None:\n",
    "                    nn.init.constant_(m.bias, 0)\n",
    "            elif isinstance(m, nn.BatchNorm2d):\n",
    "                nn.init.constant_(m.weight, 1)\n",
    "                nn.init.constant_(m.bias, 0)\n",
    "            elif isinstance(m, nn.Linear):\n",
    "                nn.init.normal_(m.weight, 0, 0.01)\n",
    "                nn.init.constant_(m.bias, 0)\n",
    "\n",
    "def resnet18():\n",
    "    return ResNet(BasicBlock, [2,2,2,2])\n",
    "\n",
    "def resnet34():\n",
    "    return ResNet(BasicBlock, [3, 4, 6, 3])\n",
    "\n",
    "def resnet50():\n",
    "    return ResNet(BottleNeck, [3,4,6,3])\n",
    "\n",
    "def resnet101():\n",
    "    return ResNet(BottleNeck, [3, 4, 23, 3])\n",
    "\n",
    "def resnet152():\n",
    "    return ResNet(BottleNeck, [3, 8, 36, 3])"
   ]
  },
  {
   "cell_type": "code",
   "execution_count": 19,
   "id": "58aef468",
   "metadata": {},
   "outputs": [
    {
     "name": "stdout",
     "output_type": "stream",
     "text": [
      "----------------------------------------------------------------\n",
      "        Layer (type)               Output Shape         Param #\n",
      "================================================================\n",
      "            Conv2d-1        [128, 64, 128, 128]           9,408\n",
      "       BatchNorm2d-2        [128, 64, 128, 128]             128\n",
      "              ReLU-3        [128, 64, 128, 128]               0\n",
      "         MaxPool2d-4          [128, 64, 64, 64]               0\n",
      "            Conv2d-5          [128, 64, 64, 64]           4,096\n",
      "       BatchNorm2d-6          [128, 64, 64, 64]             128\n",
      "         LeakyReLU-7          [128, 64, 64, 64]               0\n",
      "            Conv2d-8          [128, 64, 64, 64]          36,864\n",
      "       BatchNorm2d-9          [128, 64, 64, 64]             128\n",
      "        LeakyReLU-10          [128, 64, 64, 64]               0\n",
      "           Conv2d-11         [128, 256, 64, 64]          16,384\n",
      "      BatchNorm2d-12         [128, 256, 64, 64]             512\n",
      "           Conv2d-13         [128, 256, 64, 64]          16,384\n",
      "      BatchNorm2d-14         [128, 256, 64, 64]             512\n",
      "             ReLU-15         [128, 256, 64, 64]               0\n",
      "       BottleNeck-16         [128, 256, 64, 64]               0\n",
      "           Conv2d-17          [128, 64, 64, 64]          16,384\n",
      "      BatchNorm2d-18          [128, 64, 64, 64]             128\n",
      "        LeakyReLU-19          [128, 64, 64, 64]               0\n",
      "           Conv2d-20          [128, 64, 64, 64]          36,864\n",
      "      BatchNorm2d-21          [128, 64, 64, 64]             128\n",
      "        LeakyReLU-22          [128, 64, 64, 64]               0\n",
      "           Conv2d-23         [128, 256, 64, 64]          16,384\n",
      "      BatchNorm2d-24         [128, 256, 64, 64]             512\n",
      "             ReLU-25         [128, 256, 64, 64]               0\n",
      "       BottleNeck-26         [128, 256, 64, 64]               0\n",
      "           Conv2d-27          [128, 64, 64, 64]          16,384\n",
      "      BatchNorm2d-28          [128, 64, 64, 64]             128\n",
      "        LeakyReLU-29          [128, 64, 64, 64]               0\n",
      "           Conv2d-30          [128, 64, 64, 64]          36,864\n",
      "      BatchNorm2d-31          [128, 64, 64, 64]             128\n",
      "        LeakyReLU-32          [128, 64, 64, 64]               0\n",
      "           Conv2d-33         [128, 256, 64, 64]          16,384\n",
      "      BatchNorm2d-34         [128, 256, 64, 64]             512\n",
      "             ReLU-35         [128, 256, 64, 64]               0\n",
      "       BottleNeck-36         [128, 256, 64, 64]               0\n",
      "           Conv2d-37         [128, 128, 64, 64]          32,768\n",
      "      BatchNorm2d-38         [128, 128, 64, 64]             256\n",
      "        LeakyReLU-39         [128, 128, 64, 64]               0\n",
      "           Conv2d-40         [128, 128, 32, 32]         147,456\n",
      "      BatchNorm2d-41         [128, 128, 32, 32]             256\n",
      "        LeakyReLU-42         [128, 128, 32, 32]               0\n",
      "           Conv2d-43         [128, 512, 32, 32]          65,536\n",
      "      BatchNorm2d-44         [128, 512, 32, 32]           1,024\n",
      "           Conv2d-45         [128, 512, 32, 32]         131,072\n",
      "      BatchNorm2d-46         [128, 512, 32, 32]           1,024\n",
      "             ReLU-47         [128, 512, 32, 32]               0\n",
      "       BottleNeck-48         [128, 512, 32, 32]               0\n",
      "           Conv2d-49         [128, 128, 32, 32]          65,536\n",
      "      BatchNorm2d-50         [128, 128, 32, 32]             256\n",
      "        LeakyReLU-51         [128, 128, 32, 32]               0\n",
      "           Conv2d-52         [128, 128, 32, 32]         147,456\n",
      "      BatchNorm2d-53         [128, 128, 32, 32]             256\n",
      "        LeakyReLU-54         [128, 128, 32, 32]               0\n",
      "           Conv2d-55         [128, 512, 32, 32]          65,536\n",
      "      BatchNorm2d-56         [128, 512, 32, 32]           1,024\n",
      "             ReLU-57         [128, 512, 32, 32]               0\n",
      "       BottleNeck-58         [128, 512, 32, 32]               0\n",
      "           Conv2d-59         [128, 128, 32, 32]          65,536\n",
      "      BatchNorm2d-60         [128, 128, 32, 32]             256\n",
      "        LeakyReLU-61         [128, 128, 32, 32]               0\n",
      "           Conv2d-62         [128, 128, 32, 32]         147,456\n",
      "      BatchNorm2d-63         [128, 128, 32, 32]             256\n",
      "        LeakyReLU-64         [128, 128, 32, 32]               0\n",
      "           Conv2d-65         [128, 512, 32, 32]          65,536\n",
      "      BatchNorm2d-66         [128, 512, 32, 32]           1,024\n",
      "             ReLU-67         [128, 512, 32, 32]               0\n",
      "       BottleNeck-68         [128, 512, 32, 32]               0\n",
      "           Conv2d-69         [128, 128, 32, 32]          65,536\n",
      "      BatchNorm2d-70         [128, 128, 32, 32]             256\n",
      "        LeakyReLU-71         [128, 128, 32, 32]               0\n",
      "           Conv2d-72         [128, 128, 32, 32]         147,456\n",
      "      BatchNorm2d-73         [128, 128, 32, 32]             256\n",
      "        LeakyReLU-74         [128, 128, 32, 32]               0\n",
      "           Conv2d-75         [128, 512, 32, 32]          65,536\n",
      "      BatchNorm2d-76         [128, 512, 32, 32]           1,024\n",
      "             ReLU-77         [128, 512, 32, 32]               0\n",
      "       BottleNeck-78         [128, 512, 32, 32]               0\n",
      "           Conv2d-79         [128, 256, 32, 32]         131,072\n",
      "      BatchNorm2d-80         [128, 256, 32, 32]             512\n",
      "        LeakyReLU-81         [128, 256, 32, 32]               0\n",
      "           Conv2d-82         [128, 256, 16, 16]         589,824\n",
      "      BatchNorm2d-83         [128, 256, 16, 16]             512\n",
      "        LeakyReLU-84         [128, 256, 16, 16]               0\n",
      "           Conv2d-85        [128, 1024, 16, 16]         262,144\n",
      "      BatchNorm2d-86        [128, 1024, 16, 16]           2,048\n",
      "           Conv2d-87        [128, 1024, 16, 16]         524,288\n",
      "      BatchNorm2d-88        [128, 1024, 16, 16]           2,048\n",
      "             ReLU-89        [128, 1024, 16, 16]               0\n",
      "       BottleNeck-90        [128, 1024, 16, 16]               0\n",
      "           Conv2d-91         [128, 256, 16, 16]         262,144\n",
      "      BatchNorm2d-92         [128, 256, 16, 16]             512\n",
      "        LeakyReLU-93         [128, 256, 16, 16]               0\n",
      "           Conv2d-94         [128, 256, 16, 16]         589,824\n",
      "      BatchNorm2d-95         [128, 256, 16, 16]             512\n",
      "        LeakyReLU-96         [128, 256, 16, 16]               0\n",
      "           Conv2d-97        [128, 1024, 16, 16]         262,144\n",
      "      BatchNorm2d-98        [128, 1024, 16, 16]           2,048\n",
      "             ReLU-99        [128, 1024, 16, 16]               0\n",
      "      BottleNeck-100        [128, 1024, 16, 16]               0\n",
      "          Conv2d-101         [128, 256, 16, 16]         262,144\n",
      "     BatchNorm2d-102         [128, 256, 16, 16]             512\n",
      "       LeakyReLU-103         [128, 256, 16, 16]               0\n",
      "          Conv2d-104         [128, 256, 16, 16]         589,824\n",
      "     BatchNorm2d-105         [128, 256, 16, 16]             512\n",
      "       LeakyReLU-106         [128, 256, 16, 16]               0\n",
      "          Conv2d-107        [128, 1024, 16, 16]         262,144\n",
      "     BatchNorm2d-108        [128, 1024, 16, 16]           2,048\n",
      "            ReLU-109        [128, 1024, 16, 16]               0\n",
      "      BottleNeck-110        [128, 1024, 16, 16]               0\n",
      "          Conv2d-111         [128, 256, 16, 16]         262,144\n",
      "     BatchNorm2d-112         [128, 256, 16, 16]             512\n",
      "       LeakyReLU-113         [128, 256, 16, 16]               0\n",
      "          Conv2d-114         [128, 256, 16, 16]         589,824\n",
      "     BatchNorm2d-115         [128, 256, 16, 16]             512\n",
      "       LeakyReLU-116         [128, 256, 16, 16]               0\n",
      "          Conv2d-117        [128, 1024, 16, 16]         262,144\n",
      "     BatchNorm2d-118        [128, 1024, 16, 16]           2,048\n",
      "            ReLU-119        [128, 1024, 16, 16]               0\n",
      "      BottleNeck-120        [128, 1024, 16, 16]               0\n",
      "          Conv2d-121         [128, 256, 16, 16]         262,144\n",
      "     BatchNorm2d-122         [128, 256, 16, 16]             512\n",
      "       LeakyReLU-123         [128, 256, 16, 16]               0\n",
      "          Conv2d-124         [128, 256, 16, 16]         589,824\n",
      "     BatchNorm2d-125         [128, 256, 16, 16]             512\n",
      "       LeakyReLU-126         [128, 256, 16, 16]               0\n",
      "          Conv2d-127        [128, 1024, 16, 16]         262,144\n",
      "     BatchNorm2d-128        [128, 1024, 16, 16]           2,048\n",
      "            ReLU-129        [128, 1024, 16, 16]               0\n",
      "      BottleNeck-130        [128, 1024, 16, 16]               0\n",
      "          Conv2d-131         [128, 256, 16, 16]         262,144\n",
      "     BatchNorm2d-132         [128, 256, 16, 16]             512\n",
      "       LeakyReLU-133         [128, 256, 16, 16]               0\n",
      "          Conv2d-134         [128, 256, 16, 16]         589,824\n",
      "     BatchNorm2d-135         [128, 256, 16, 16]             512\n",
      "       LeakyReLU-136         [128, 256, 16, 16]               0\n",
      "          Conv2d-137        [128, 1024, 16, 16]         262,144\n",
      "     BatchNorm2d-138        [128, 1024, 16, 16]           2,048\n",
      "            ReLU-139        [128, 1024, 16, 16]               0\n",
      "      BottleNeck-140        [128, 1024, 16, 16]               0\n",
      "          Conv2d-141         [128, 512, 16, 16]         524,288\n",
      "     BatchNorm2d-142         [128, 512, 16, 16]           1,024\n",
      "       LeakyReLU-143         [128, 512, 16, 16]               0\n",
      "          Conv2d-144           [128, 512, 8, 8]       2,359,296\n",
      "     BatchNorm2d-145           [128, 512, 8, 8]           1,024\n",
      "       LeakyReLU-146           [128, 512, 8, 8]               0\n",
      "          Conv2d-147          [128, 2048, 8, 8]       1,048,576\n",
      "     BatchNorm2d-148          [128, 2048, 8, 8]           4,096\n",
      "          Conv2d-149          [128, 2048, 8, 8]       2,097,152\n",
      "     BatchNorm2d-150          [128, 2048, 8, 8]           4,096\n",
      "            ReLU-151          [128, 2048, 8, 8]               0\n",
      "      BottleNeck-152          [128, 2048, 8, 8]               0\n",
      "          Conv2d-153           [128, 512, 8, 8]       1,048,576\n",
      "     BatchNorm2d-154           [128, 512, 8, 8]           1,024\n",
      "       LeakyReLU-155           [128, 512, 8, 8]               0\n",
      "          Conv2d-156           [128, 512, 8, 8]       2,359,296\n",
      "     BatchNorm2d-157           [128, 512, 8, 8]           1,024\n",
      "       LeakyReLU-158           [128, 512, 8, 8]               0\n",
      "          Conv2d-159          [128, 2048, 8, 8]       1,048,576\n",
      "     BatchNorm2d-160          [128, 2048, 8, 8]           4,096\n",
      "            ReLU-161          [128, 2048, 8, 8]               0\n",
      "      BottleNeck-162          [128, 2048, 8, 8]               0\n",
      "          Conv2d-163           [128, 512, 8, 8]       1,048,576\n",
      "     BatchNorm2d-164           [128, 512, 8, 8]           1,024\n",
      "       LeakyReLU-165           [128, 512, 8, 8]               0\n",
      "          Conv2d-166           [128, 512, 8, 8]       2,359,296\n",
      "     BatchNorm2d-167           [128, 512, 8, 8]           1,024\n",
      "       LeakyReLU-168           [128, 512, 8, 8]               0\n",
      "          Conv2d-169          [128, 2048, 8, 8]       1,048,576\n",
      "     BatchNorm2d-170          [128, 2048, 8, 8]           4,096\n",
      "            ReLU-171          [128, 2048, 8, 8]               0\n",
      "      BottleNeck-172          [128, 2048, 8, 8]               0\n",
      "AdaptiveAvgPool2d-173          [128, 2048, 1, 1]               0\n",
      "          Linear-174                   [128, 5]          10,245\n",
      "================================================================\n",
      "Total params: 23,518,277\n",
      "Trainable params: 23,518,277\n",
      "Non-trainable params: 0\n",
      "----------------------------------------------------------------\n",
      "Input size (MB): 96.00\n",
      "Forward/backward pass size (MB): 47906.00\n",
      "Params size (MB): 89.72\n",
      "Estimated Total Size (MB): 48091.72\n",
      "----------------------------------------------------------------\n"
     ]
    },
    {
     "name": "stderr",
     "output_type": "stream",
     "text": [
      "/home/rpc/.local/lib/python3.8/site-packages/torch/nn/functional.py:718: UserWarning: Named tensors and all their associated APIs are an experimental feature and subject to change. Please do not use them for anything important until they are released as stable. (Triggered internally at  /pytorch/c10/core/TensorImpl.h:1156.)\n",
      "  return torch.max_pool2d(input, kernel_size, stride, padding, dilation, ceil_mode)\n"
     ]
    }
   ],
   "source": [
    "from torchsummary import summary as summary_\n",
    "DEVICE_IDS = [0,1]\n",
    "model = resnet50().to(device)\n",
    "summary_(model,(3,256,256),batch_size = 128)\n",
    "resnet50 = torch.nn.parallel.DataParallel(resnet50, device_ids=DEVICE_IDS)"
   ]
  },
  {
   "cell_type": "code",
   "execution_count": 20,
   "id": "c5888329",
   "metadata": {},
   "outputs": [],
   "source": [
    "criterion = torch.nn.CrossEntropyLoss().to(device) \n",
    "optimizer = torch.optim.Adam(model.parameters(), lr=0.0001)"
   ]
  },
  {
   "cell_type": "code",
   "execution_count": 21,
   "id": "1eb47514",
   "metadata": {},
   "outputs": [
    {
     "name": "stdout",
     "output_type": "stream",
     "text": [
      "[Epoch:    1] loss = 0.329588622   test_loss = 0.184062779\n",
      "[Epoch:    2] loss = 0.136371985   test_loss = 0.130005136\n",
      "[Epoch:    3] loss = 0.0651361197   test_loss = 0.120073713\n",
      "[Epoch:    4] loss = 0.0386640579   test_loss = 0.130288512\n",
      "[Epoch:    5] loss = 0.0289993696   test_loss = 0.149142683\n",
      "[Epoch:    6] loss = 0.0250780545   test_loss = 0.134022892\n",
      "[Epoch:    7] loss = 0.024518257   test_loss = 0.120396048\n",
      "[Epoch:    8] loss = 0.0180869307   test_loss = 0.13972801\n",
      "[Epoch:    9] loss = 0.017375106   test_loss = 0.155341551\n",
      "[Epoch:   10] loss = 0.0137238344   test_loss = 0.120661229\n"
     ]
    }
   ],
   "source": [
    "total_batch = len(train_dataloader)\n",
    "val_total_batch = len(val_dataloader)\n",
    "epochs = 10\n",
    "x_values = []\n",
    "train_loss = []\n",
    "test_loss = []\n",
    "for epoch in range(epochs): \n",
    "    avg_cost = 0 \n",
    "    cnt = 0\n",
    "    val_avg_cost = 0\n",
    "    \n",
    "    for X, Y in train_dataloader: \n",
    "        X = X.to(device) \n",
    "        Y = Y.to(device) \n",
    "        \n",
    "        optimizer.zero_grad() \n",
    "        hypothesis = model(X) \n",
    "        cost = criterion(hypothesis, Y) \n",
    "        cost.backward() \n",
    "        optimizer.step() \n",
    "       \n",
    "        avg_cost += cost / total_batch\n",
    "        \n",
    "    with torch.no_grad():\n",
    "        for A, B in val_dataloader:\n",
    "            A = A.to(device)\n",
    "            B = B.to(device)\n",
    "            val_output = model(A)\n",
    "            val_loss = criterion(val_output,B)\n",
    "            val_avg_cost += val_loss / val_total_batch\n",
    "\n",
    "    x_values.append(epoch+1)\n",
    "    train_loss.append(avg_cost)\n",
    "    test_loss.append(val_avg_cost)\n",
    " \n",
    "    print('[Epoch: {:>4}] loss = {:>.9}   test_loss = {:>.9}'.format(epoch + 1, avg_cost, val_avg_cost))"
   ]
  },
  {
   "cell_type": "code",
   "execution_count": 33,
   "id": "2a1dbd4d",
   "metadata": {},
   "outputs": [
    {
     "data": {
      "image/png": "[encoded data removed]",
      "text/plain": [
       "<Figure size 432x288 with 1 Axes>"
      ]
     },
     "metadata": {
      "needs_background": "light"
     },
     "output_type": "display_data"
    }
   ],
   "source": [
    "plt.plot(x_values, train_loss)\n",
    "plt.plot(x_values, test_loss)\n",
    "plt.ylim([0, 0.6])\n",
    "plt.legend(['train loss', 'valid loss'])\n",
    "plt.show()"
   ]
  },
  {
   "cell_type": "code",
   "execution_count": 34,
   "id": "0c8c734c",
   "metadata": {},
   "outputs": [],
   "source": [
    "path_dir = 'LJH/data/product_data/test/Item-Parse_f'\n",
    "path_dir_img = 'test'\n",
    "file_list_test = os.listdir(path_dir)\n",
    "Test_size = len(file_list_test)\n",
    "#label_test = [0 for i in range(len(file_list_test))] #list형\n",
    "label_test = [0 for i in range(Test_size)] \n",
    "def make_file_list_test():\n",
    "    #test_img_list = [0 for i in range(len(file_list_test))]\n",
    "    test_img_list = [0 for i in range(Test_size)]\n",
    "    cnt = 0\n",
    "    #for i in file_list_test:\n",
    "    for i in range(Test_size):\n",
    "    \n",
    "        with open(path_dir +'/'+ file_list_test[cnt], \"r\") as st_json:\n",
    "            load_data = json.load(st_json)\n",
    "\n",
    "        category = load_data.get('category_id') #class 찾아오기\n",
    "        #print(category)\n",
    "        str = file_list_test[cnt].split('.')[0]\n",
    "        test_img_list[cnt] = path_dir_img +'/'+ str+\".jpg\" #이미지파일 파일명 생성\n",
    "        label_test[cnt] = category\n",
    "\n",
    "        cnt+=1\n",
    "\n",
    "    return test_img_list"
   ]
  },
  {
   "cell_type": "code",
   "execution_count": 24,
   "id": "f1a455bf",
   "metadata": {},
   "outputs": [],
   "source": [
    "class Img_Dataset(data.Dataset):\n",
    "\n",
    "    def __init__(self, file_list, transform):\n",
    "        self.file_list = file_list\n",
    "        self.transform = transform\n",
    "\n",
    "    def __len__(self):\n",
    "        return len(self.file_list)\n",
    "\n",
    "    def __getitem__(self, index):\n",
    "        img_path = self.file_list[index]\n",
    "        img = Image.open(img_path)\n",
    "        img_transformed = self.transform(img)\n",
    "        img_label = label_test[index]\n",
    "\n",
    "        return img_transformed,img_label"
   ]
  },
  {
   "cell_type": "code",
   "execution_count": 25,
   "id": "6045e169",
   "metadata": {},
   "outputs": [],
   "source": [
    "test_img_list=make_file_list_test()"
   ]
  },
  {
   "cell_type": "code",
   "execution_count": 26,
   "id": "1b020128",
   "metadata": {},
   "outputs": [],
   "source": [
    "test_dataset = Img_Dataset(file_list=test_img_list, transform=ImageTransform())"
   ]
  },
  {
   "cell_type": "code",
   "execution_count": 27,
   "id": "37335484",
   "metadata": {},
   "outputs": [],
   "source": [
    "test_dataloader = data.DataLoader(test_dataset,\n",
    "                                   batch_size=32,\n",
    "                                   shuffle=False,\n",
    "                                   drop_last=True)"
   ]
  },
  {
   "cell_type": "code",
   "execution_count": 28,
   "id": "78e36da2",
   "metadata": {},
   "outputs": [
    {
     "name": "stdout",
     "output_type": "stream",
     "text": [
      "Accuracy of 0 : 100 %\n",
      "Accuracy of 1 : 89 %\n",
      "Accuracy of 2 : 97 %\n",
      "Accuracy of 3 : 98 %\n",
      "Accuracy of 4 : 97 %\n",
      "total Accurarcy : 97 %\n",
      "\n",
      "Num  of total : 7674 / 7904  \n",
      "Num of 0 : 24 / 24\n",
      "Num of 1 : 793 / 889\n",
      "Num of 2 : 4092 / 4176\n",
      "Num of 3 : 2687 / 2735\n",
      "Num of 4 : 78 / 80\n"
     ]
    }
   ],
   "source": [
    "#Testing classification accuracy for individual classes.\n",
    "correct = 0\n",
    "total = 0\n",
    "class_correct = list(0. for i in range(5))\n",
    "class_total = list(0. for i in range(5))\n",
    "arr = [[0]*5 for i in range(5)]\n",
    "with torch.no_grad():\n",
    "    for datas in test_dataloader:\n",
    "        images, labels = datas[0].to(device), datas[1].to(device)\n",
    "        outputs = model(images)\n",
    "        _, predicted = torch.max(outputs, 1)\n",
    "        c = (predicted == labels).squeeze()\n",
    "        for i in range(32):\n",
    "            label = labels[i]\n",
    "            class_correct[label] += c[i].item()\n",
    "            class_total[label] += 1\n",
    "            arr[label][predicted[i]] += 1\n",
    "        total += labels.size(0)\n",
    "        correct += (predicted == labels).sum().item()\n",
    "        \n",
    "\n",
    "for i in range(5):\n",
    "    print('Accuracy of %d : %2d %%' % (\n",
    "        i, 100 * class_correct[i] / class_total[i]))\n",
    "print('total Accurarcy : %2d %%' %(100 * correct / total))\n",
    "print()\n",
    "print('Num  of total : %2d / %2d  ' %(correct, total))\n",
    "for i in range(5):\n",
    "    print('Num of %d : %2d / %2d' % (\n",
    "        i, class_correct[i], class_total[i]))"
   ]
  },
  {
   "cell_type": "code",
   "execution_count": 29,
   "id": "9d382a27",
   "metadata": {},
   "outputs": [],
   "source": [
    "from sklearn.metrics import confusion_matrix, plot_confusion_matrix\n",
    "import matplotlib.pyplot as plt\n",
    "import pandas as pd\n",
    "import seaborn as sn"
   ]
  },
  {
   "cell_type": "code",
   "execution_count": 30,
   "id": "16b3521e",
   "metadata": {},
   "outputs": [
    {
     "data": {
      "image/png": "[encoded data removed]",
      "text/plain": [
       "<Figure size 720x504 with 2 Axes>"
      ]
     },
     "metadata": {
      "needs_background": "light"
     },
     "output_type": "display_data"
    }
   ],
   "source": [
    "#confusion Metrix\n",
    "classes = [\"hat and cap\", \"outer\", \"top\", \"bottom\",\"shoes\"]\n",
    "df_cfm = pd.DataFrame(arr, index = classes, columns = classes)\n",
    "plt.figure(figsize = (10,7))\n",
    "cfm_plot = sn.heatmap(df_cfm, annot=True,  cmap='Oranges', fmt='g')"
   ]
  },
  {
   "cell_type": "code",
   "execution_count": 31,
   "id": "e3bcae2e",
   "metadata": {},
   "outputs": [
    {
     "name": "stdout",
     "output_type": "stream",
     "text": [
      "7978\n"
     ]
    }
   ],
   "source": [
    "print(len(val_img_list))"
   ]
  },
  {
   "cell_type": "code",
   "execution_count": null,
   "id": "59ba2ff9",
   "metadata": {},
   "outputs": [],
   "source": []
  },
  {
   "cell_type": "code",
   "execution_count": null,
   "id": "dcf4740d",
   "metadata": {},
   "outputs": [],
   "source": []
  }
 ],
 "metadata": {
  "kernelspec": {
   "display_name": "Python 3 (ipykernel)",
   "language": "python",
   "name": "python3"
  },
  "language_info": {
   "codemirror_mode": {
    "name": "ipython",
    "version": 3
   },
   "file_extension": ".py",
   "mimetype": "text/x-python",
   "name": "python",
   "nbconvert_exporter": "python",
   "pygments_lexer": "ipython3",
   "version": "3.8.10"
  }
 },
 "nbformat": 4,
 "nbformat_minor": 5
}
