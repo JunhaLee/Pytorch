{
 "cells": [
  {
   "cell_type": "code",
   "execution_count": 1,
   "id": "d5ca2295",
   "metadata": {},
   "outputs": [],
   "source": [
    "import torch\n",
    "import torchvision.transforms as transforms \n",
    "import torch.nn.init\n",
    "from torchsummary import summary as summary_\n",
    "import json\n",
    "from PIL import Image\n",
    "import numpy as np\n",
    "import matplotlib.pyplot as plt\n",
    "import os\n",
    "import glob\n",
    "import torch.nn as nn\n",
    "import torch.optim as optim\n",
    "import torch.nn.functional as F\n",
    "from torch.utils import data\n",
    "import torchvision.datasets as datasets\n",
    "from matplotlib import pyplot as plt"
   ]
  },
  {
   "cell_type": "code",
   "execution_count": 2,
   "id": "b2e88a66",
   "metadata": {},
   "outputs": [],
   "source": [
    "#Train data 받아오기\n",
    "class_num = list(0. for i in range(5))\n",
    "\n",
    "path_dir = 'aug_json' #Parse 폴더에서 파일명 불러오기\n",
    "file_list_train = os.listdir(path_dir)"
   ]
  },
  {
   "cell_type": "code",
   "execution_count": 3,
   "id": "2f69aa04",
   "metadata": {},
   "outputs": [],
   "source": [
    "TRAIN_SIZE = len(file_list_train)\n",
    "label = [0 for i in range(TRAIN_SIZE)] #list형\n",
    "path_dir_img = 'aug_all'\n",
    "\n",
    "def make_file_list():\n",
    "    #train_img_list = [0 for i in range(len(file_list_train))]\n",
    "    train_img_list = [0 for i in range(TRAIN_SIZE)]\n",
    "    cnt = 0\n",
    "    #for i in file_list_train:\n",
    "    for i in range(TRAIN_SIZE):\n",
    "    \n",
    "        with open(path_dir +'/'+ file_list_train[cnt], \"r\") as st_json:\n",
    "            load_data = json.load(st_json)\n",
    "\n",
    "        category = load_data.get('category_id') #class 찾아오기\n",
    "        class_num[category]+=1\n",
    "        #print(category)\n",
    "        str = file_list_train[cnt].split('.')[0]\n",
    "        train_img_list[cnt] = path_dir_img +'/'+ str+\".jpg\" #이미지파일 파일명 생성\n",
    "        label[cnt] = category\n",
    "\n",
    "        cnt+=1\n",
    "\n",
    "    return train_img_list\n"
   ]
  },
  {
   "cell_type": "code",
   "execution_count": 4,
   "id": "d4ff41f1",
   "metadata": {},
   "outputs": [],
   "source": [
    "class ImageTransform():\n",
    "\n",
    "    def __init__(self):\n",
    "        \n",
    "        self.data_transform = transforms.Compose([\n",
    "            #transforms.CenterCrop(720),\n",
    "            #transforms.Resize(256),\n",
    "            #transforms.Normalize([train_meanR, train_meanG, train_meanB], [train_stdR, train_stdG, train_stdB]),\n",
    "            transforms.ToTensor(),\n",
    "        ])\n",
    "        \n",
    "\n",
    "    def __call__(self, img):\n",
    "        return self.data_transform(img)"
   ]
  },
  {
   "cell_type": "code",
   "execution_count": 5,
   "id": "9778be8e",
   "metadata": {},
   "outputs": [],
   "source": [
    "class Img_Dataset(data.Dataset):\n",
    "\n",
    "    def __init__(self, file_list, transform):\n",
    "        self.file_list = file_list\n",
    "        self.transform = transform\n",
    "\n",
    "    def __len__(self):\n",
    "        return len(self.file_list)\n",
    "\n",
    "    def __getitem__(self, index):\n",
    "        img_path = self.file_list[index]\n",
    "        img = Image.open(img_path)\n",
    "        img_transformed = self.transform(img)\n",
    "        img_label = label[index]\n",
    "\n",
    "        return img_transformed,img_label"
   ]
  },
  {
   "cell_type": "code",
   "execution_count": 6,
   "id": "465ebd60",
   "metadata": {},
   "outputs": [],
   "source": [
    "train_img_list=make_file_list()"
   ]
  },
  {
   "cell_type": "code",
   "execution_count": 7,
   "id": "fe00122d",
   "metadata": {},
   "outputs": [
    {
     "name": "stdout",
     "output_type": "stream",
     "text": [
      "840.0\n",
      "79744.0\n",
      "80872.0\n",
      "29216.0\n",
      "1816.0\n"
     ]
    }
   ],
   "source": [
    "for i in range(5):\n",
    "    print(class_num[i])"
   ]
  },
  {
   "cell_type": "code",
   "execution_count": 8,
   "id": "722b8c1c",
   "metadata": {},
   "outputs": [],
   "source": [
    "train_dataset = Img_Dataset(file_list=train_img_list,\n",
    "                            transform=ImageTransform())"
   ]
  },
  {
   "cell_type": "code",
   "execution_count": 9,
   "id": "09499094",
   "metadata": {},
   "outputs": [
    {
     "name": "stdout",
     "output_type": "stream",
     "text": [
      "Dataloader created\n"
     ]
    }
   ],
   "source": [
    "train_dataloader = data.DataLoader(train_dataset,\n",
    "                                   batch_size=128,\n",
    "                                   shuffle=True,\n",
    "                                   drop_last=True)\n",
    "print('Dataloader created')"
   ]
  },
  {
   "cell_type": "code",
   "execution_count": 10,
   "id": "d7aaf244",
   "metadata": {},
   "outputs": [],
   "source": [
    "path_dir = 'LJH/data/product_data/val/Item-Parse_f'\n",
    "path_dir_img = 'valid'\n",
    "file_list_val = os.listdir(path_dir)\n",
    "Val_size = len(file_list_val)\n",
    "label_val = [0 for i in range(Val_size)] \n",
    "class_num_v = list(0. for i in range(5))\n",
    "def make_file_list_val():\n",
    "    val_img_list = [0 for i in range(Val_size)]\n",
    "    cnt = 0\n",
    "    #for i in file_list_test:\n",
    "    for i in range(Val_size):\n",
    "    \n",
    "        with open(path_dir +'/'+ file_list_val[cnt], \"r\") as st_json:\n",
    "            load_data = json.load(st_json)\n",
    "\n",
    "        category = load_data.get('category_id') #class 찾아오기\n",
    "        class_num_v[category]+=1\n",
    "        #print(category)\n",
    "        str = file_list_val[cnt].split('.')[0]\n",
    "        val_img_list[cnt] = path_dir_img +'/'+ str+\".jpg\" #이미지파일 파일명 생성\n",
    "        label_val[cnt] = category\n",
    "\n",
    "        cnt+=1\n",
    "\n",
    "    return val_img_list"
   ]
  },
  {
   "cell_type": "code",
   "execution_count": 11,
   "id": "7a6bb9c1",
   "metadata": {},
   "outputs": [],
   "source": [
    "class Img_Dataset(data.Dataset):\n",
    "\n",
    "    def __init__(self, file_list, transform):\n",
    "        self.file_list = file_list\n",
    "        self.transform = transform\n",
    "\n",
    "    def __len__(self):\n",
    "        return len(self.file_list)\n",
    "\n",
    "    def __getitem__(self, index):\n",
    "        img_path = self.file_list[index]\n",
    "        img = Image.open(img_path)\n",
    "        img_transformed = self.transform(img)\n",
    "        img_label = label_val[index]\n",
    "\n",
    "        return img_transformed,img_label"
   ]
  },
  {
   "cell_type": "code",
   "execution_count": 12,
   "id": "227da5d3",
   "metadata": {},
   "outputs": [],
   "source": [
    "val_img_list=make_file_list_val()"
   ]
  },
  {
   "cell_type": "code",
   "execution_count": 13,
   "id": "7a9708e3",
   "metadata": {},
   "outputs": [
    {
     "name": "stdout",
     "output_type": "stream",
     "text": [
      "24.0\n",
      "944.0\n",
      "4182.0\n",
      "2768.0\n",
      "60.0\n"
     ]
    }
   ],
   "source": [
    "for i in range(5):\n",
    "    print(class_num_v[i])"
   ]
  },
  {
   "cell_type": "code",
   "execution_count": 14,
   "id": "3e0e4ceb",
   "metadata": {},
   "outputs": [],
   "source": [
    "val_dataset = Img_Dataset(file_list=val_img_list, transform=ImageTransform())"
   ]
  },
  {
   "cell_type": "code",
   "execution_count": 15,
   "id": "03455801",
   "metadata": {},
   "outputs": [],
   "source": [
    "val_dataloader = data.DataLoader(val_dataset,\n",
    "                                   batch_size=128,\n",
    "                                   shuffle=False,\n",
    "                                   drop_last=True)"
   ]
  },
  {
   "cell_type": "code",
   "execution_count": 16,
   "id": "73275f8e",
   "metadata": {},
   "outputs": [],
   "source": [
    "batch_iterator = iter(train_dataloader)\n",
    "images = next(batch_iterator)"
   ]
  },
  {
   "cell_type": "code",
   "execution_count": 17,
   "id": "9f719743",
   "metadata": {},
   "outputs": [
    {
     "name": "stdout",
     "output_type": "stream",
     "text": [
      "cuda\n"
     ]
    }
   ],
   "source": [
    "device = torch.device('cuda' if torch.cuda.is_available() else 'cpu')\n",
    "print(device)"
   ]
  },
  {
   "cell_type": "code",
   "execution_count": 18,
   "id": "02f19c8f",
   "metadata": {},
   "outputs": [],
   "source": [
    "class VGG11(nn.Module):\n",
    "    def __init__(self,init_weights: bool = True):\n",
    "        super(VGG11, self).__init__()\n",
    "        self.convnet = nn.Sequential(\n",
    "            # Input Channel (RGB: 3)\n",
    "            nn.Conv2d(in_channels=3, out_channels=64, kernel_size=3, padding=1, stride=1),\n",
    "            nn.LeakyReLU(0.2),\n",
    "            nn.MaxPool2d(kernel_size=2, stride=2),\n",
    "            \n",
    "            nn.Conv2d(in_channels=64, out_channels=128, kernel_size=3, padding=1, stride=1),\n",
    "            nn.LeakyReLU(0.2),\n",
    "            nn.MaxPool2d(kernel_size=2, stride=2), \n",
    "            \n",
    "            nn.Conv2d(in_channels=128, out_channels=256, kernel_size=3, padding=1, stride=1),\n",
    "            nn.LeakyReLU(0.2),\n",
    "            nn.Conv2d(in_channels=256, out_channels=256, kernel_size=3, padding=1, stride=1),\n",
    "            nn.LeakyReLU(0.2),\n",
    "            nn.MaxPool2d(kernel_size=2, stride=2), \n",
    "\n",
    "            nn.Conv2d(in_channels=256, out_channels=512, kernel_size=3, padding=1, stride=1),\n",
    "            nn.LeakyReLU(0.2),\n",
    "            nn.Conv2d(in_channels=512, out_channels=512, kernel_size=3, padding=1, stride=1),\n",
    "            nn.LeakyReLU(0.2),\n",
    "            nn.MaxPool2d(kernel_size=2, stride=2),\n",
    "\n",
    "            nn.Conv2d(in_channels=512, out_channels=512, kernel_size=3, padding=1, stride=1),\n",
    "            nn.LeakyReLU(0.2),\n",
    "            nn.Conv2d(in_channels=512, out_channels=512, kernel_size=3, padding=1, stride=1),\n",
    "            nn.LeakyReLU(0.2),\n",
    "            nn.MaxPool2d(kernel_size=2, stride=2), \n",
    "        )\n",
    "\n",
    "        self.fclayer = nn.Sequential(\n",
    "            nn.Linear(512 * 8 * 8, 4096),\n",
    "            nn.LeakyReLU(0.2),\n",
    "            nn.Dropout(p=0.5),\n",
    "            nn.Linear(4096, 4096),\n",
    "            nn.LeakyReLU(0.2),\n",
    "            nn.Dropout(p=0.5),\n",
    "            nn.Linear(4096, 5),\n",
    "        )\n",
    "    \n",
    "    def forward(self, x:torch.Tensor) -> torch.Tensor:\n",
    "        x = self.convnet(x)\n",
    "        x = torch.flatten(x, 1)\n",
    "        x = self.fclayer(x)\n",
    "        return x"
   ]
  },
  {
   "cell_type": "code",
   "execution_count": 19,
   "id": "de537ef7",
   "metadata": {},
   "outputs": [
    {
     "name": "stdout",
     "output_type": "stream",
     "text": [
      "----------------------------------------------------------------\n",
      "        Layer (type)               Output Shape         Param #\n",
      "================================================================\n",
      "            Conv2d-1        [128, 64, 256, 256]           1,792\n",
      "         LeakyReLU-2        [128, 64, 256, 256]               0\n",
      "         MaxPool2d-3        [128, 64, 128, 128]               0\n",
      "            Conv2d-4       [128, 128, 128, 128]          73,856\n",
      "         LeakyReLU-5       [128, 128, 128, 128]               0\n",
      "         MaxPool2d-6         [128, 128, 64, 64]               0\n",
      "            Conv2d-7         [128, 256, 64, 64]         295,168\n",
      "         LeakyReLU-8         [128, 256, 64, 64]               0\n",
      "            Conv2d-9         [128, 256, 64, 64]         590,080\n",
      "        LeakyReLU-10         [128, 256, 64, 64]               0\n",
      "        MaxPool2d-11         [128, 256, 32, 32]               0\n",
      "           Conv2d-12         [128, 512, 32, 32]       1,180,160\n",
      "        LeakyReLU-13         [128, 512, 32, 32]               0\n",
      "           Conv2d-14         [128, 512, 32, 32]       2,359,808\n",
      "        LeakyReLU-15         [128, 512, 32, 32]               0\n",
      "        MaxPool2d-16         [128, 512, 16, 16]               0\n",
      "           Conv2d-17         [128, 512, 16, 16]       2,359,808\n",
      "        LeakyReLU-18         [128, 512, 16, 16]               0\n",
      "           Conv2d-19         [128, 512, 16, 16]       2,359,808\n",
      "        LeakyReLU-20         [128, 512, 16, 16]               0\n",
      "        MaxPool2d-21           [128, 512, 8, 8]               0\n",
      "           Linear-22                [128, 4096]     134,221,824\n",
      "        LeakyReLU-23                [128, 4096]               0\n",
      "          Dropout-24                [128, 4096]               0\n",
      "           Linear-25                [128, 4096]      16,781,312\n",
      "        LeakyReLU-26                [128, 4096]               0\n",
      "          Dropout-27                [128, 4096]               0\n",
      "           Linear-28                   [128, 5]          20,485\n",
      "================================================================\n",
      "Total params: 160,244,101\n",
      "Trainable params: 160,244,101\n",
      "Non-trainable params: 0\n",
      "----------------------------------------------------------------\n",
      "Input size (MB): 96.00\n",
      "Forward/backward pass size (MB): 20920.00\n",
      "Params size (MB): 611.28\n",
      "Estimated Total Size (MB): 21627.29\n",
      "----------------------------------------------------------------\n"
     ]
    },
    {
     "name": "stderr",
     "output_type": "stream",
     "text": [
      "/home/rpc/.local/lib/python3.8/site-packages/torch/nn/functional.py:718: UserWarning: Named tensors and all their associated APIs are an experimental feature and subject to change. Please do not use them for anything important until they are released as stable. (Triggered internally at  /pytorch/c10/core/TensorImpl.h:1156.)\n",
      "  return torch.max_pool2d(input, kernel_size, stride, padding, dilation, ceil_mode)\n"
     ]
    }
   ],
   "source": [
    "from torchsummary import summary as summary_\n",
    "DEVICE_IDS = [0,1]\n",
    "model = VGG11().to(device)\n",
    "summary_(model,(3,256,256),batch_size = 128)\n",
    "VGG11 = torch.nn.parallel.DataParallel(VGG11, device_ids=DEVICE_IDS)"
   ]
  },
  {
   "cell_type": "code",
   "execution_count": 20,
   "id": "f1d39097",
   "metadata": {},
   "outputs": [],
   "source": [
    "criterion = torch.nn.CrossEntropyLoss().to(device) \n",
    "optimizer = torch.optim.Adam(model.parameters(), lr=0.0001)"
   ]
  },
  {
   "cell_type": "code",
   "execution_count": 21,
   "id": "ef7c0b2b",
   "metadata": {},
   "outputs": [
    {
     "name": "stdout",
     "output_type": "stream",
     "text": [
      "[Epoch:    1] loss = 0.403535753   test_loss = 0.182930261\n",
      "[Epoch:    2] loss = 0.0959869921   test_loss = 0.102330521\n",
      "[Epoch:    3] loss = 0.037379127   test_loss = 0.121258482\n",
      "[Epoch:    4] loss = 0.0234152991   test_loss = 0.139520183\n",
      "[Epoch:    5] loss = 0.0179371741   test_loss = 0.121306188\n",
      "[Epoch:    6] loss = 0.015420788   test_loss = 0.144537643\n",
      "[Epoch:    7] loss = 0.0122735901   test_loss = 0.126235798\n",
      "[Epoch:    8] loss = 0.012986185   test_loss = 0.12436752\n",
      "[Epoch:    9] loss = 0.0102325082   test_loss = 0.13584131\n",
      "[Epoch:   10] loss = 0.010640665   test_loss = 0.180330187\n"
     ]
    }
   ],
   "source": [
    "total_batch = len(train_dataloader)\n",
    "val_total_batch = len(val_dataloader)\n",
    "epochs = 10\n",
    "x_values = []\n",
    "train_loss = []\n",
    "test_loss = []\n",
    "for epoch in range(epochs): \n",
    "    avg_cost = 0 \n",
    "    cnt = 0\n",
    "    val_avg_cost = 0\n",
    "    \n",
    "    for X, Y in train_dataloader: \n",
    "        X = X.to(device) \n",
    "        Y = Y.to(device) \n",
    "        \n",
    "        optimizer.zero_grad() \n",
    "        hypothesis = model(X) \n",
    "        cost = criterion(hypothesis, Y) \n",
    "        cost.backward() \n",
    "        optimizer.step() \n",
    "       \n",
    "        avg_cost += cost / total_batch\n",
    "        \n",
    "    with torch.no_grad():\n",
    "        for A, B in val_dataloader:\n",
    "            A = A.to(device)\n",
    "            B = B.to(device)\n",
    "            val_output = model(A)\n",
    "            val_loss = criterion(val_output,B)\n",
    "            val_avg_cost += val_loss / val_total_batch\n",
    "\n",
    "    x_values.append(epoch+1)\n",
    "    train_loss.append(avg_cost)\n",
    "    test_loss.append(val_avg_cost)\n",
    "    torch.save(model.state_dict(), 'model'+f'{epoch+1}'+'.pt')\n",
    " \n",
    "    print('[Epoch: {:>4}] loss = {:>.9}   test_loss = {:>.9}'.format(epoch + 1, avg_cost, val_avg_cost))"
   ]
  },
  {
   "cell_type": "code",
   "execution_count": 22,
   "id": "0ad7ebaf",
   "metadata": {},
   "outputs": [
    {
     "data": {
      "image/png": "[encoded data removed]",
      "text/plain": [
       "<Figure size 432x288 with 1 Axes>"
      ]
     },
     "metadata": {
      "needs_background": "light"
     },
     "output_type": "display_data"
    }
   ],
   "source": [
    "plt.plot(x_values, train_loss)\n",
    "plt.plot(x_values, test_loss)\n",
    "plt.legend(['train loss', 'valid loss'])\n",
    "plt.show()"
   ]
  },
  {
   "cell_type": "code",
   "execution_count": 23,
   "id": "14ea8f0a",
   "metadata": {},
   "outputs": [],
   "source": [
    "path_dir = 'LJH/data/product_data/test/Item-Parse_f'\n",
    "path_dir_img = 'test'\n",
    "file_list_test = os.listdir(path_dir)\n",
    "Test_size = len(file_list_test)\n",
    "#label_test = [0 for i in range(len(file_list_test))] #list형\n",
    "label_test = [0 for i in range(Test_size)] \n",
    "def make_file_list_test():\n",
    "    #test_img_list = [0 for i in range(len(file_list_test))]\n",
    "    test_img_list = [0 for i in range(Test_size)]\n",
    "    cnt = 0\n",
    "    #for i in file_list_test:\n",
    "    for i in range(Test_size):\n",
    "    \n",
    "        with open(path_dir +'/'+ file_list_test[cnt], \"r\") as st_json:\n",
    "            load_data = json.load(st_json)\n",
    "\n",
    "        category = load_data.get('category_id') #class 찾아오기\n",
    "        #print(category)\n",
    "        str = file_list_test[cnt].split('.')[0]\n",
    "        test_img_list[cnt] = path_dir_img +'/'+ str+\".jpg\" #이미지파일 파일명 생성\n",
    "        label_test[cnt] = category\n",
    "\n",
    "        cnt+=1\n",
    "\n",
    "    return test_img_list"
   ]
  },
  {
   "cell_type": "code",
   "execution_count": 24,
   "id": "d6316803",
   "metadata": {},
   "outputs": [],
   "source": [
    "class Img_Dataset_test(data.Dataset):\n",
    "\n",
    "    def __init__(self, file_list, transform):\n",
    "        self.file_list = file_list\n",
    "        self.transform = transform\n",
    "\n",
    "    def __len__(self):\n",
    "        return len(self.file_list)\n",
    "\n",
    "    def __getitem__(self, index):\n",
    "        img_path = self.file_list[index]\n",
    "        img = Image.open(img_path)\n",
    "        img_transformed = self.transform(img)\n",
    "        img_label = label_test[index]\n",
    "\n",
    "        return img_transformed,img_label"
   ]
  },
  {
   "cell_type": "code",
   "execution_count": 25,
   "id": "8be2d565",
   "metadata": {},
   "outputs": [],
   "source": [
    "test_img_list=make_file_list_test()"
   ]
  },
  {
   "cell_type": "code",
   "execution_count": 26,
   "id": "baf2163d",
   "metadata": {},
   "outputs": [],
   "source": [
    "test_dataset = Img_Dataset_test(file_list=test_img_list, transform=ImageTransform())"
   ]
  },
  {
   "cell_type": "code",
   "execution_count": 27,
   "id": "79954ada",
   "metadata": {},
   "outputs": [],
   "source": [
    "test_dataloader = data.DataLoader(test_dataset,\n",
    "                                   batch_size=32,\n",
    "                                   shuffle=False,\n",
    "                                   drop_last=True)"
   ]
  },
  {
   "cell_type": "code",
   "execution_count": 28,
   "id": "2b236018",
   "metadata": {},
   "outputs": [
    {
     "name": "stdout",
     "output_type": "stream",
     "text": [
      "Accuracy of 0 : 95 %\n",
      "Accuracy of 1 : 90 %\n",
      "Accuracy of 2 : 98 %\n",
      "Accuracy of 3 : 99 %\n",
      "Accuracy of 4 : 98 %\n",
      "total Accuracy : 97 %\n",
      "\n",
      "Num  of total : 7735 / 7904  \n",
      "Num of 0 : 23 / 24\n",
      "Num of 1 : 804 / 889\n",
      "Num of 2 : 4104 / 4176\n",
      "Num of 3 : 2725 / 2735\n",
      "Num of 4 : 79 / 80\n"
     ]
    }
   ],
   "source": [
    "#Testing classification accuracy for individual classes.\n",
    "correct = 0\n",
    "total = 0\n",
    "class_correct = list(0. for i in range(5))\n",
    "class_total = list(0. for i in range(5))\n",
    "arr = [[0]*5 for i in range(5)]\n",
    "with torch.no_grad():\n",
    "    for datas in test_dataloader:\n",
    "        images, labels = datas[0].to(device), datas[1].to(device)\n",
    "        outputs = model(images)\n",
    "        _, predicted = torch.max(outputs, 1)\n",
    "        c = (predicted == labels).squeeze()\n",
    "        for i in range(32):\n",
    "            label = labels[i]\n",
    "            class_correct[label] += c[i].item()\n",
    "            class_total[label] += 1\n",
    "            arr[label][predicted[i]] += 1\n",
    "        total += labels.size(0)\n",
    "        correct += (predicted == labels).sum().item()\n",
    "\n",
    "for i in range(5):\n",
    "    print('Accuracy of %d : %2d %%' % (\n",
    "        i, 100 * class_correct[i] / class_total[i]))\n",
    "print('total Accuracy : %2d %%' %(100 * correct / total))\n",
    "print()\n",
    "print('Num  of total : %2d / %2d  ' %(correct, total))\n",
    "for i in range(5):\n",
    "    print('Num of %d : %2d / %2d' % (\n",
    "        i, class_correct[i], class_total[i]))"
   ]
  },
  {
   "cell_type": "code",
   "execution_count": 29,
   "id": "634fbc24",
   "metadata": {},
   "outputs": [],
   "source": [
    "from sklearn.metrics import confusion_matrix, plot_confusion_matrix\n",
    "import matplotlib.pyplot as plt\n",
    "import pandas as pd\n",
    "import seaborn as sn"
   ]
  },
  {
   "cell_type": "code",
   "execution_count": 30,
   "id": "eaacf10b",
   "metadata": {},
   "outputs": [
    {
     "data": {
      "image/png": "[encoded data removed]",
      "text/plain": [
       "<Figure size 720x504 with 2 Axes>"
      ]
     },
     "metadata": {
      "needs_background": "light"
     },
     "output_type": "display_data"
    }
   ],
   "source": [
    "classes = [\"hat and cap\", \"outer\", \"top\", \"bottom\",\"shoes\"]\n",
    "df_cfm = pd.DataFrame(arr, index = classes, columns = classes)\n",
    "plt.figure(figsize = (10,7))\n",
    "cfm_plot = sn.heatmap(df_cfm, annot=True, cmap='Oranges', fmt='g')"
   ]
  },
  {
   "cell_type": "code",
   "execution_count": 31,
   "id": "b431000a",
   "metadata": {},
   "outputs": [
    {
     "name": "stdout",
     "output_type": "stream",
     "text": [
      "1 epoch Accurarcy : 93.484312 %\n",
      "2 epoch Accurarcy : 95.287196 %\n",
      "3 epoch Accurarcy : 95.985155 %\n",
      "4 epoch Accurarcy : 96.419534 %\n",
      "5 epoch Accurarcy : 96.697874 %\n",
      "6 epoch Accurarcy : 96.915064 %\n",
      "7 epoch Accurarcy : 97.095503 %\n",
      "8 epoch Accurarcy : 97.180225 %\n",
      "9 epoch Accurarcy : 97.250337 %\n",
      "10 epoch Accurarcy : 97.316549 %\n"
     ]
    }
   ],
   "source": [
    "accu_result = []\n",
    "correct_res = 0\n",
    "total_res = 0\n",
    "class_correct_res = list(0. for i in range(5))\n",
    "class_total_res = list(0. for i in range(5))\n",
    "arr = [[0]*5 for i in range(5)]\n",
    "for j in range(epochs):\n",
    "    model.load_state_dict(torch.load('model'+f'{j+1}'+'.pt'))\n",
    "    model.eval()\n",
    "    with torch.no_grad():\n",
    "        for datas in test_dataloader:\n",
    "            images, labels = datas[0].to(device), datas[1].to(device)\n",
    "            outputs = model(images)\n",
    "            _, predicted = torch.max(outputs, 1)\n",
    "            c = (predicted == labels).squeeze()\n",
    "            for i in range(32):\n",
    "                label = labels[i]\n",
    "                class_correct_res [label] += c[i].item()\n",
    "                class_total_res [label] += 1\n",
    "            total_res  += labels.size(0)\n",
    "            correct_res  += (predicted == labels).sum().item()\n",
    "\n",
    "\n",
    "    print('%d epoch Accurarcy : %f %%' %(j+1,100 * correct_res  / total_res ))\n",
    "    accu_result.append(100 * correct_res  / total_res)"
   ]
  },
  {
   "cell_type": "code",
   "execution_count": 32,
   "id": "8738ca45",
   "metadata": {},
   "outputs": [
    {
     "data": {
      "image/png": "[encoded data removed]",
      "text/plain": [
       "<Figure size 432x288 with 1 Axes>"
      ]
     },
     "metadata": {
      "needs_background": "light"
     },
     "output_type": "display_data"
    }
   ],
   "source": [
    "plt.plot(x_values, accu_result)\n",
    "plt.legend(['Accuracy'])\n",
    "plt.show()"
   ]
  },
  {
   "cell_type": "code",
   "execution_count": null,
   "id": "90883b4b",
   "metadata": {},
   "outputs": [],
   "source": []
  },
  {
   "cell_type": "code",
   "execution_count": null,
   "id": "eb3506c8",
   "metadata": {},
   "outputs": [],
   "source": []
  },
  {
   "cell_type": "code",
   "execution_count": null,
   "id": "dbac9ea4",
   "metadata": {},
   "outputs": [],
   "source": []
  },
  {
   "cell_type": "code",
   "execution_count": null,
   "id": "92b8e06d",
   "metadata": {},
   "outputs": [],
   "source": []
  }
 ],
 "metadata": {
  "kernelspec": {
   "display_name": "Python 3 (ipykernel)",
   "language": "python",
   "name": "python3"
  },
  "language_info": {
   "codemirror_mode": {
    "name": "ipython",
    "version": 3
   },
   "file_extension": ".py",
   "mimetype": "text/x-python",
   "name": "python",
   "nbconvert_exporter": "python",
   "pygments_lexer": "ipython3",
   "version": "3.8.10"
  }
 },
 "nbformat": 4,
 "nbformat_minor": 5
}
