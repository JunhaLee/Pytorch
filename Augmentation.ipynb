{
 "cells": [
  {
   "cell_type": "code",
   "execution_count": 1,
   "id": "fd245a34",
   "metadata": {},
   "outputs": [
    {
     "name": "stderr",
     "output_type": "stream",
     "text": [
      "2021-07-20 09:52:11.335337: I tensorflow/stream_executor/platform/default/dso_loader.cc:53] Successfully opened dynamic library libcudart.so.11.0\n"
     ]
    }
   ],
   "source": [
    "from keras.preprocessing.image import ImageDataGenerator\n",
    "from keras.preprocessing.image import img_to_array\n",
    "from keras.preprocessing.image import load_img\n",
    "from imutils import paths\n",
    "import argparse\n",
    "import numpy as np\n",
    "import os\n",
    "import json"
   ]
  },
  {
   "cell_type": "code",
   "execution_count": 2,
   "id": "e8bf35f6",
   "metadata": {},
   "outputs": [],
   "source": [
    "path_dir = 'LJH/data/product_data/train/Item-Parse_f' #Parse 폴더에서 파일명 불러오기\n",
    "file_list = os.listdir(path_dir)\n"
   ]
  },
  {
   "cell_type": "code",
   "execution_count": 3,
   "id": "0fd59c93",
   "metadata": {},
   "outputs": [],
   "source": [
    "SIZE = 4984\n",
    "path_dir_img = 'LJH/data/product_data/train/Item-Image'\n",
    "\n",
    "def make_file_list():\n",
    "    #train_img_list = [0 for i in range(len(file_list_train))]\n",
    "    train_img_list = [0 for i in range(SIZE)]\n",
    "    cnt=0\n",
    "    #for i in file_list_train:\n",
    "    for i in range(len(file_list)):\n",
    "    \n",
    "        with open(path_dir +'/'+ file_list[i], \"r\") as st_json:\n",
    "            load_data = json.load(st_json)\n",
    "\n",
    "        category = load_data.get('category_id') #class 찾아오기\n",
    "        #print(category)\n",
    "        if category == 1:\n",
    "            str = file_list[i].split('.')[0]\n",
    "            train_img_list[cnt] = path_dir_img +'/'+ str+\".jpg\" #이미지파일 파일명 생성\n",
    "            cnt+=1\n",
    "\n",
    "        \n",
    "\n",
    "    return train_img_list, cnt"
   ]
  },
  {
   "cell_type": "code",
   "execution_count": 4,
   "id": "d151d65f",
   "metadata": {},
   "outputs": [],
   "source": [
    "train_img_list, count=make_file_list()"
   ]
  },
  {
   "cell_type": "code",
   "execution_count": 5,
   "id": "a30e442f",
   "metadata": {},
   "outputs": [],
   "source": [
    "output_path = 'aug/'\n",
    "image_w = 256 \n",
    "image_h = 256\n",
    "for i in range(count):\n",
    "    total = 0\n",
    "    image = load_img(train_img_list[i])\n",
    "    image = image.crop((0,280,720,1000))\n",
    "    image = image.resize((256, 256))\n",
    "    image = img_to_array(image)\n",
    "    image = np.expand_dims(image, axis=0)\n",
    "    \n",
    "    aug = ImageDataGenerator(\n",
    "        rotation_range=30,\n",
    "        width_shift_range=0.1,\n",
    "        height_shift_range=0.1,\n",
    "        shear_range=0.2,\n",
    "        zoom_range=0.2,\n",
    "        horizontal_flip=True,\n",
    "        fill_mode=\"nearest\",\n",
    "    )\n",
    "    imageGen = aug.flow(\n",
    "        image,\n",
    "        batch_size=1,\n",
    "        save_to_dir=output_path,\n",
    "        save_prefix=f'{i}',\n",
    "        save_format=\"jpg\",\n",
    "    )\n",
    "    for image in imageGen:\n",
    "        total += 1\n",
    "        if total == 5:\n",
    "            break\n"
   ]
  },
  {
   "cell_type": "code",
   "execution_count": 6,
   "id": "749e9eb4",
   "metadata": {},
   "outputs": [
    {
     "name": "stdout",
     "output_type": "stream",
     "text": [
      "33170\n"
     ]
    }
   ],
   "source": [
    "print(len(file_list)) #원래 데이터 셋 개수"
   ]
  },
  {
   "cell_type": "code",
   "execution_count": 9,
   "id": "ea0e49c0",
   "metadata": {},
   "outputs": [
    {
     "data": {
      "text/plain": [
       "24914"
      ]
     },
     "execution_count": 9,
     "metadata": {},
     "output_type": "execute_result"
    }
   ],
   "source": [
    "24914"
   ]
  },
  {
   "cell_type": "code",
   "execution_count": 10,
   "id": "71f6fc98",
   "metadata": {},
   "outputs": [],
   "source": []
  },
  {
   "cell_type": "code",
   "execution_count": null,
   "id": "7ece5656",
   "metadata": {},
   "outputs": [],
   "source": []
  }
 ],
 "metadata": {
  "kernelspec": {
   "display_name": "Python 3 (ipykernel)",
   "language": "python",
   "name": "python3"
  },
  "language_info": {
   "codemirror_mode": {
    "name": "ipython",
    "version": 3
   },
   "file_extension": ".py",
   "mimetype": "text/x-python",
   "name": "python",
   "nbconvert_exporter": "python",
   "pygments_lexer": "ipython3",
   "version": "3.8.10"
  }
 },
 "nbformat": 4,
 "nbformat_minor": 5
}
