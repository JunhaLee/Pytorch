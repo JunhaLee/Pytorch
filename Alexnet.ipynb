{
 "cells": [
  {
   "cell_type": "code",
   "execution_count": 1,
   "id": "e1d4ce15",
   "metadata": {},
   "outputs": [],
   "source": [
    "import torch\n",
    "import torchvision.transforms as transforms \n",
    "import torch.nn.init\n",
    "from torchsummary import summary as summary_\n",
    "import json\n",
    "from PIL import Image\n",
    "import numpy as np\n",
    "import matplotlib.pyplot as plt\n",
    "import os\n",
    "import glob\n",
    "import torch.nn as nn\n",
    "import torch.optim as optim\n",
    "import torch.nn.functional as F\n",
    "from torch.utils import data\n",
    "import torchvision.datasets as datasets"
   ]
  },
  {
   "cell_type": "code",
   "execution_count": 2,
   "id": "5d999bb7",
   "metadata": {},
   "outputs": [],
   "source": [
    "#Train data 받아오기\n",
    "\n",
    "path_dir = 'LJH/data/product_data/train/Item-Parse_f' #Parse 폴더에서 파일명 불러오기\n",
    "file_list_train = os.listdir(path_dir)"
   ]
  },
  {
   "cell_type": "code",
   "execution_count": 3,
   "id": "408ee373",
   "metadata": {},
   "outputs": [],
   "source": [
    "TRAIN_SIZE = len(file_list_train)\n",
    "label = [0 for i in range(TRAIN_SIZE)] #list형\n",
    "path_dir_img = 'train/'\n",
    "\n",
    "def make_file_list():\n",
    "    #train_img_list = [0 for i in range(len(file_list_train))]\n",
    "    train_img_list = [0 for i in range(TRAIN_SIZE)]\n",
    "    cnt = 0\n",
    "    #for i in file_list_train:\n",
    "    for i in range(TRAIN_SIZE):\n",
    "    \n",
    "        with open(path_dir +'/'+ file_list_train[cnt], \"r\") as st_json:\n",
    "            load_data = json.load(st_json)\n",
    "\n",
    "        category = load_data.get('category_id') #class 찾아오기\n",
    "        #print(category)\n",
    "        str = file_list_train[cnt].split('.')[0]\n",
    "        train_img_list[cnt] = path_dir_img +'/'+ str+\".jpg\" #이미지파일 파일명 생성\n",
    "        label[cnt] = category\n",
    "\n",
    "        cnt+=1\n",
    "\n",
    "    return train_img_list\n"
   ]
  },
  {
   "cell_type": "code",
   "execution_count": 4,
   "id": "634fc7ad",
   "metadata": {},
   "outputs": [],
   "source": [
    "class ImageTransform():\n",
    "\n",
    "    def __init__(self):\n",
    "        \n",
    "        self.data_transform = transforms.Compose([\n",
    "            #transforms.CenterCrop(720),\n",
    "            #transforms.Resize(256),\n",
    "            transforms.ToTensor(),\n",
    "        ])\n",
    "        \n",
    "\n",
    "    def __call__(self, img):\n",
    "        return self.data_transform(img)"
   ]
  },
  {
   "cell_type": "code",
   "execution_count": 5,
   "id": "183cf7fb",
   "metadata": {},
   "outputs": [],
   "source": [
    "class Img_Dataset(data.Dataset):\n",
    "\n",
    "    def __init__(self, file_list, transform):\n",
    "        self.file_list = file_list\n",
    "        self.transform = transform\n",
    "\n",
    "    def __len__(self):\n",
    "        return len(self.file_list)\n",
    "\n",
    "    def __getitem__(self, index):\n",
    "        img_path = self.file_list[index]\n",
    "        img = Image.open(img_path)\n",
    "        img_transformed = self.transform(img)\n",
    "        img_label = label[index]\n",
    "\n",
    "        return img_transformed,img_label"
   ]
  },
  {
   "cell_type": "code",
   "execution_count": 6,
   "id": "52506271",
   "metadata": {},
   "outputs": [],
   "source": [
    "train_img_list=make_file_list()"
   ]
  },
  {
   "cell_type": "code",
   "execution_count": 7,
   "id": "ee32f4c8",
   "metadata": {},
   "outputs": [],
   "source": [
    "train_dataset = Img_Dataset(file_list=train_img_list,\n",
    "                            transform=ImageTransform())"
   ]
  },
  {
   "cell_type": "code",
   "execution_count": 8,
   "id": "1a3c81f5",
   "metadata": {},
   "outputs": [
    {
     "name": "stdout",
     "output_type": "stream",
     "text": [
      "Dataloader created\n"
     ]
    }
   ],
   "source": [
    "train_dataloader = data.DataLoader(train_dataset,\n",
    "                                   batch_size=128,\n",
    "                                   shuffle=True,\n",
    "                                   drop_last=True)\n",
    "print('Dataloader created')"
   ]
  },
  {
   "cell_type": "code",
   "execution_count": 9,
   "id": "2c71dbf2",
   "metadata": {},
   "outputs": [],
   "source": [
    "batch_iterator = iter(train_dataloader)\n",
    "images = next(batch_iterator)"
   ]
  },
  {
   "cell_type": "code",
   "execution_count": 10,
   "id": "7bac7ea3",
   "metadata": {},
   "outputs": [
    {
     "data": {
      "image/png": "[encoded data removed]",
      "text/plain": [
       "<Figure size 432x288 with 1 Axes>"
      ]
     },
     "metadata": {
      "needs_background": "light"
     },
     "output_type": "display_data"
    }
   ],
   "source": [
    "plt.imshow(images[0][3][0])\n",
    "plt.show() "
   ]
  },
  {
   "cell_type": "code",
   "execution_count": 11,
   "id": "ff67910a",
   "metadata": {},
   "outputs": [
    {
     "name": "stdout",
     "output_type": "stream",
     "text": [
      "cuda\n"
     ]
    }
   ],
   "source": [
    "device = torch.device('cuda' if torch.cuda.is_available() else 'cpu')\n",
    "print(device)"
   ]
  },
  {
   "cell_type": "code",
   "execution_count": 12,
   "id": "5a6fa87d",
   "metadata": {},
   "outputs": [],
   "source": [
    "class Alexnet(torch.nn.Module): \n",
    "    def __init__(self): \n",
    "        super(Alexnet, self).__init__() \n",
    "        self.features = nn.Sequential(\n",
    "            nn.Conv2d(3, 64, kernel_size=11, stride=4, padding=2),\n",
    "            nn.LeakyReLU(0.2),\n",
    "            nn.MaxPool2d(kernel_size=3, stride=2),\n",
    "            nn.Conv2d(64, 192, kernel_size=5, padding=2),\n",
    "            nn.LeakyReLU(0.2),\n",
    "            nn.MaxPool2d(kernel_size=3, stride=2),\n",
    "            nn.Conv2d(192, 384, kernel_size=3, padding=1),\n",
    "            nn.LeakyReLU(0.2),\n",
    "            nn.Conv2d(384, 256, kernel_size=3, padding=1),\n",
    "            nn.LeakyReLU(0.2),\n",
    "            nn.Conv2d(256, 256, kernel_size=3, padding=1),\n",
    "            nn.LeakyReLU(0.2),\n",
    "            nn.MaxPool2d(kernel_size=3, stride=2),\n",
    "        )\n",
    "        self.avgpool = nn.AdaptiveAvgPool2d((6, 6))\n",
    "        self.classifier = nn.Sequential(\n",
    "            nn.Dropout(),\n",
    "            nn.Linear(256 * 6 * 6, 4096),\n",
    "            nn.LeakyReLU(0.2),\n",
    "            nn.Dropout(),\n",
    "            nn.Linear(4096, 4096),\n",
    "            nn.LeakyReLU(0.2),\n",
    "            nn.Linear(4096, 5),\n",
    "        )\n",
    "        \n",
    "#    def init_bias(self):\n",
    "#        for layer in self.net:\n",
    "#            if isinstance(layer, nn.Conv2d):\n",
    "#                nn.init.normal_(layer.weight, mean=0, std=0.01)\n",
    "#                nn.init.constant_(layer.bias, 0)\n",
    "#        \n",
    "#        nn.init.constant_(self.net[4].bias, 1)\n",
    "#        nn.init.constant_(self.net[10].bias, 1)\n",
    "#        nn.init.constant_(self.net[12].bias, 1)\n",
    "\n",
    "    def forward(self, x: torch.Tensor) -> torch.Tensor:\n",
    "        x = self.features(x)\n",
    "        x = self.avgpool(x)\n",
    "        x = torch.flatten(x, 1)\n",
    "        x = self.classifier(x)\n",
    "        return x\n",
    "        "
   ]
  },
  {
   "cell_type": "code",
   "execution_count": 13,
   "id": "0c0d1bca",
   "metadata": {},
   "outputs": [
    {
     "name": "stdout",
     "output_type": "stream",
     "text": [
      "----------------------------------------------------------------\n",
      "        Layer (type)               Output Shape         Param #\n",
      "================================================================\n",
      "            Conv2d-1          [128, 64, 63, 63]          23,296\n",
      "         LeakyReLU-2          [128, 64, 63, 63]               0\n",
      "         MaxPool2d-3          [128, 64, 31, 31]               0\n",
      "            Conv2d-4         [128, 192, 31, 31]         307,392\n",
      "         LeakyReLU-5         [128, 192, 31, 31]               0\n",
      "         MaxPool2d-6         [128, 192, 15, 15]               0\n",
      "            Conv2d-7         [128, 384, 15, 15]         663,936\n",
      "         LeakyReLU-8         [128, 384, 15, 15]               0\n",
      "            Conv2d-9         [128, 256, 15, 15]         884,992\n",
      "        LeakyReLU-10         [128, 256, 15, 15]               0\n",
      "           Conv2d-11         [128, 256, 15, 15]         590,080\n",
      "        LeakyReLU-12         [128, 256, 15, 15]               0\n",
      "        MaxPool2d-13           [128, 256, 7, 7]               0\n",
      "AdaptiveAvgPool2d-14           [128, 256, 6, 6]               0\n",
      "          Dropout-15                [128, 9216]               0\n",
      "           Linear-16                [128, 4096]      37,752,832\n",
      "        LeakyReLU-17                [128, 4096]               0\n",
      "          Dropout-18                [128, 4096]               0\n",
      "           Linear-19                [128, 4096]      16,781,312\n",
      "        LeakyReLU-20                [128, 4096]               0\n",
      "           Linear-21                   [128, 5]          20,485\n",
      "================================================================\n",
      "Total params: 57,024,325\n",
      "Trainable params: 57,024,325\n",
      "Non-trainable params: 0\n",
      "----------------------------------------------------------------\n",
      "Input size (MB): 96.00\n",
      "Forward/backward pass size (MB): 1402.75\n",
      "Params size (MB): 217.53\n",
      "Estimated Total Size (MB): 1716.29\n",
      "----------------------------------------------------------------\n"
     ]
    },
    {
     "name": "stderr",
     "output_type": "stream",
     "text": [
      "/home/rpc/.local/lib/python3.8/site-packages/torch/nn/functional.py:718: UserWarning: Named tensors and all their associated APIs are an experimental feature and subject to change. Please do not use them for anything important until they are released as stable. (Triggered internally at  /pytorch/c10/core/TensorImpl.h:1156.)\n",
      "  return torch.max_pool2d(input, kernel_size, stride, padding, dilation, ceil_mode)\n"
     ]
    }
   ],
   "source": [
    "from torchsummary import summary as summary_\n",
    "DEVICE_IDS = [0,1]\n",
    "model = Alexnet().to(device)\n",
    "summary_(model,(3,256,256),batch_size = 128)\n",
    "Alexnet = torch.nn.parallel.DataParallel(Alexnet, device_ids=DEVICE_IDS)"
   ]
  },
  {
   "cell_type": "code",
   "execution_count": 14,
   "id": "e100cc28",
   "metadata": {},
   "outputs": [],
   "source": [
    "criterion = torch.nn.CrossEntropyLoss().to(device) \n",
    "optimizer = torch.optim.Adam(model.parameters(), lr=0.0001)"
   ]
  },
  {
   "cell_type": "code",
   "execution_count": 15,
   "id": "c96566c5",
   "metadata": {},
   "outputs": [
    {
     "name": "stdout",
     "output_type": "stream",
     "text": [
      "[Epoch:    1] cost = 0.700542927\n",
      "[Epoch:    2] cost = 0.441431016\n",
      "[Epoch:    3] cost = 0.354880601\n",
      "[Epoch:    4] cost = 0.307719201\n",
      "[Epoch:    5] cost = 0.278242379\n",
      "[Epoch:    6] cost = 0.260138452\n",
      "[Epoch:    7] cost = 0.242898792\n",
      "[Epoch:    8] cost = 0.228259012\n",
      "[Epoch:    9] cost = 0.217419729\n",
      "[Epoch:   10] cost = 0.204460621\n"
     ]
    }
   ],
   "source": [
    "total_batch = len(train_dataloader)\n",
    "for epoch in range(10): \n",
    "    avg_cost = 0 \n",
    "    cnt = 0\n",
    "    \n",
    "    for X, Y in train_dataloader: \n",
    "        X = X.to(device) \n",
    "        Y = Y.to(device) \n",
    "        \n",
    "        optimizer.zero_grad() \n",
    "        hypothesis = model(X) \n",
    "        cost = criterion(hypothesis, Y) \n",
    "        cost.backward() \n",
    "        optimizer.step() \n",
    "       \n",
    "        avg_cost += cost / total_batch\n",
    "           \n",
    "    print('[Epoch: {:>4}] cost = {:>.9}'.format(epoch + 1, avg_cost))"
   ]
  },
  {
   "cell_type": "code",
   "execution_count": 16,
   "id": "deee8802",
   "metadata": {},
   "outputs": [],
   "source": [
    "path_dir = 'LJH/data/product_data/test/Item-Parse_f'\n",
    "path_dir_img = 'test'\n",
    "file_list_test = os.listdir(path_dir)\n",
    "Test_size = len(file_list_test)\n",
    "#label_test = [0 for i in range(len(file_list_test))] #list형\n",
    "label_test = [0 for i in range(Test_size)] \n",
    "def make_file_list_test():\n",
    "    #test_img_list = [0 for i in range(len(file_list_test))]\n",
    "    test_img_list = [0 for i in range(Test_size)]\n",
    "    cnt = 0\n",
    "    #for i in file_list_test:\n",
    "    for i in range(Test_size):\n",
    "    \n",
    "        with open(path_dir +'/'+ file_list_test[cnt], \"r\") as st_json:\n",
    "            load_data = json.load(st_json)\n",
    "\n",
    "        category = load_data.get('category_id') #class 찾아오기\n",
    "        #print(category)\n",
    "        str = file_list_test[cnt].split('.')[0]\n",
    "        test_img_list[cnt] = path_dir_img +'/'+ str+\".jpg\" #이미지파일 파일명 생성\n",
    "        label_test[cnt] = category\n",
    "\n",
    "        cnt+=1\n",
    "\n",
    "    return test_img_list"
   ]
  },
  {
   "cell_type": "code",
   "execution_count": 17,
   "id": "76c4a898",
   "metadata": {},
   "outputs": [],
   "source": [
    "class Img_Dataset(data.Dataset):\n",
    "\n",
    "    def __init__(self, file_list, transform):\n",
    "        self.file_list = file_list\n",
    "        self.transform = transform\n",
    "\n",
    "    def __len__(self):\n",
    "        return len(self.file_list)\n",
    "\n",
    "    def __getitem__(self, index):\n",
    "        img_path = self.file_list[index]\n",
    "        img = Image.open(img_path)\n",
    "        img_transformed = self.transform(img)\n",
    "        img_label = label_test[index]\n",
    "\n",
    "        return img_transformed,img_label"
   ]
  },
  {
   "cell_type": "code",
   "execution_count": 18,
   "id": "d0f77d17",
   "metadata": {},
   "outputs": [],
   "source": [
    "test_img_list=make_file_list_test()"
   ]
  },
  {
   "cell_type": "code",
   "execution_count": 19,
   "id": "4f6c76d3",
   "metadata": {},
   "outputs": [
    {
     "data": {
      "text/plain": [
       "'from torchvision.transforms import ToTensor\\nX_test = torch.empty(0,3,256,256)\\ncnt_img = 0\\n\\nfor j in test_img_list:\\n    image = Image.open(test_img_list[cnt_img])\\n    #image = image.crop((0,280,720,1000))\\n    #image = image.resize((256, 256))\\n    data = ToTensor()(image).unsqueeze(0)\\n    X_test =torch.cat([X_test,data],dim=0)\\n    cnt_img += 1\\n    if cnt_img % 1000 == 0:\\n        print(cnt_img)'"
      ]
     },
     "execution_count": 19,
     "metadata": {},
     "output_type": "execute_result"
    }
   ],
   "source": [
    "\"\"\"from torchvision.transforms import ToTensor\n",
    "X_test = torch.empty(0,3,256,256)\n",
    "cnt_img = 0\n",
    "\n",
    "for j in test_img_list:\n",
    "    image = Image.open(test_img_list[cnt_img])\n",
    "    #image = image.crop((0,280,720,1000))\n",
    "    #image = image.resize((256, 256))\n",
    "    data = ToTensor()(image).unsqueeze(0)\n",
    "    X_test =torch.cat([X_test,data],dim=0)\n",
    "    cnt_img += 1\n",
    "    if cnt_img % 1000 == 0:\n",
    "        print(cnt_img)\"\"\""
   ]
  },
  {
   "cell_type": "code",
   "execution_count": 20,
   "id": "3e9b0a9d",
   "metadata": {},
   "outputs": [],
   "source": [
    "#print(X_test.shape)"
   ]
  },
  {
   "cell_type": "code",
   "execution_count": 21,
   "id": "b9ede4d7",
   "metadata": {},
   "outputs": [],
   "source": [
    "#Y_test = torch.tensor(label_test)"
   ]
  },
  {
   "cell_type": "code",
   "execution_count": 22,
   "id": "d626be39",
   "metadata": {},
   "outputs": [],
   "source": [
    "test_dataset = Img_Dataset(file_list=test_img_list, transform=ImageTransform())\n"
   ]
  },
  {
   "cell_type": "code",
   "execution_count": 23,
   "id": "91f55fc8",
   "metadata": {},
   "outputs": [],
   "source": [
    "test_dataloader = data.DataLoader(test_dataset,\n",
    "                                   batch_size=32,\n",
    "                                   shuffle=False,\n",
    "                                   drop_last=True)"
   ]
  },
  {
   "cell_type": "code",
   "execution_count": 24,
   "id": "d78aaa12",
   "metadata": {},
   "outputs": [
    {
     "name": "stdout",
     "output_type": "stream",
     "text": [
      "<class 'torch.utils.data.dataloader.DataLoader'>\n"
     ]
    }
   ],
   "source": [
    "print(type(test_dataloader))"
   ]
  },
  {
   "cell_type": "code",
   "execution_count": 25,
   "id": "7a54e011",
   "metadata": {},
   "outputs": [
    {
     "name": "stdout",
     "output_type": "stream",
     "text": [
      "Accuracy of 0 : 95 %\n",
      "Accuracy of 1 : 79 %\n",
      "Accuracy of 2 : 92 %\n",
      "Accuracy of 3 : 98 %\n",
      "Accuracy of 4 : 100 %\n",
      "total Accurarcy : 93 %\n",
      "\n",
      "Num  of total : 7364 / 7904  \n",
      "Num of 0 : 23 / 24\n",
      "Num of 1 : 706 / 889\n",
      "Num of 2 : 3874 / 4176\n",
      "Num of 3 : 2681 / 2735\n",
      "Num of 4 : 80 / 80\n"
     ]
    }
   ],
   "source": [
    "#Testing classification accuracy for individual classes.\n",
    "correct = 0\n",
    "total = 0\n",
    "class_correct = list(0. for i in range(10))\n",
    "class_total = list(0. for i in range(10))\n",
    "arr = [[0]*5 for i in range(5)]\n",
    "with torch.no_grad():\n",
    "    for datas in test_dataloader:\n",
    "        images, labels = datas[0].to(device), datas[1].to(device)\n",
    "        outputs = model(images)\n",
    "        _, predicted = torch.max(outputs, 1)\n",
    "        c = (predicted == labels).squeeze()\n",
    "        for i in range(32):\n",
    "            label = labels[i]\n",
    "            class_correct[label] += c[i].item()\n",
    "            class_total[label] += 1\n",
    "            arr[label][predicted[i]] += 1\n",
    "        total += labels.size(0)\n",
    "        correct += (predicted == labels).sum().item()\n",
    "\n",
    "for i in range(5):\n",
    "    print('Accuracy of %d : %2d %%' % (\n",
    "        i, 100 * class_correct[i] / class_total[i]))\n",
    "\n",
    "print('total Accurarcy : %2d %%' %(100 * correct / total))\n",
    "print()\n",
    "print('Num  of total : %2d / %2d  ' %(correct, total))\n",
    "for i in range(5):\n",
    "    print('Num of %d : %2d / %2d' % (\n",
    "        i, class_correct[i], class_total[i]))"
   ]
  },
  {
   "cell_type": "code",
   "execution_count": 26,
   "id": "4f30e91c",
   "metadata": {},
   "outputs": [],
   "source": [
    "from sklearn.metrics import confusion_matrix, plot_confusion_matrix\n",
    "import matplotlib.pyplot as plt\n",
    "import pandas as pd\n",
    "import seaborn as sn"
   ]
  },
  {
   "cell_type": "code",
   "execution_count": 27,
   "id": "b57e48e0",
   "metadata": {},
   "outputs": [
    {
     "data": {
      "image/png": "[encoded data removed]",
      "text/plain": [
       "<Figure size 720x504 with 2 Axes>"
      ]
     },
     "metadata": {
      "needs_background": "light"
     },
     "output_type": "display_data"
    }
   ],
   "source": [
    "classes = [\"hat and cap\", \"outer\", \"top\", \"bottom\",\"shoes\"]\n",
    "df_cfm = pd.DataFrame(arr, index = classes, columns = classes)\n",
    "plt.figure(figsize = (10,7))\n",
    "cfm_plot = sn.heatmap(df_cfm, annot=True, cmap='Oranges', fmt='g')"
   ]
  },
  {
   "cell_type": "code",
   "execution_count": 28,
   "id": "3675c935",
   "metadata": {},
   "outputs": [],
   "source": [
    "# 0:hat 1:outer 2:top 3:bottom 4: shoes"
   ]
  }
 ],
 "metadata": {
  "kernelspec": {
   "display_name": "Python 3 (ipykernel)",
   "language": "python",
   "name": "python3"
  },
  "language_info": {
   "codemirror_mode": {
    "name": "ipython",
    "version": 3
   },
   "file_extension": ".py",
   "mimetype": "text/x-python",
   "name": "python",
   "nbconvert_exporter": "python",
   "pygments_lexer": "ipython3",
   "version": "3.8.10"
  }
 },
 "nbformat": 4,
 "nbformat_minor": 5
}
