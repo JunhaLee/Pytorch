{
 "cells": [
  {
   "cell_type": "code",
   "execution_count": 58,
   "id": "e1d4ce15",
   "metadata": {},
   "outputs": [],
   "source": [
    "import torch\n",
    "import torchvision.transforms as transforms \n",
    "import torch.nn.init\n",
    "from torchsummary import summary as summary_\n",
    "import json\n",
    "from PIL import Image\n",
    "import numpy as np\n",
    "import matplotlib.pyplot as plt\n",
    "import os\n",
    "import glob\n",
    "import torch.nn as nn\n",
    "import torch.optim as optim\n",
    "import torch.nn.functional as F\n",
    "from torch.utils import data\n",
    "import torchvision.datasets as datasets"
   ]
  },
  {
   "cell_type": "code",
   "execution_count": 59,
   "id": "5d999bb7",
   "metadata": {},
   "outputs": [],
   "source": [
    "#Train data 받아오기\n",
    "class_num = list(0. for i in range(5))\n",
    "path_dir = 'LJH/data/product_data/train/Item-Parse_f' #Parse 폴더에서 파일명 불러오기\n",
    "file_list_train = os.listdir(path_dir)"
   ]
  },
  {
   "cell_type": "code",
   "execution_count": 60,
   "id": "408ee373",
   "metadata": {},
   "outputs": [],
   "source": [
    "TRAIN_SIZE = len(file_list_train)\n",
    "label = [0 for i in range(TRAIN_SIZE)] #list형\n",
    "path_dir_img = 'train/'\n",
    "\n",
    "def make_file_list():\n",
    "    #train_img_list = [0 for i in range(len(file_list_train))]\n",
    "    train_img_list = [0 for i in range(TRAIN_SIZE)]\n",
    "    cnt = 0\n",
    "    #for i in file_list_train:\n",
    "    for i in range(TRAIN_SIZE):\n",
    "    \n",
    "        with open(path_dir +'/'+ file_list_train[cnt], \"r\") as st_json:\n",
    "            load_data = json.load(st_json)\n",
    "\n",
    "        category = load_data.get('category_id') #class 찾아오기\n",
    "        class_num[category]+=1\n",
    "        #print(category)\n",
    "        str = file_list_train[cnt].split('.')[0]\n",
    "        train_img_list[cnt] = path_dir_img + str+\".jpg\" #이미지파일 파일명 생성\n",
    "        label[cnt] = category\n",
    "\n",
    "        cnt+=1\n",
    "\n",
    "    return train_img_list\n"
   ]
  },
  {
   "cell_type": "code",
   "execution_count": 61,
   "id": "634fc7ad",
   "metadata": {},
   "outputs": [],
   "source": [
    "class ImageTransform():\n",
    "\n",
    "    def __init__(self):\n",
    "        \n",
    "        self.data_transform = transforms.Compose([\n",
    "            #transforms.CenterCrop(720),\n",
    "            #transforms.Resize(256),\n",
    "            transforms.ToTensor(),\n",
    "        ])\n",
    "        \n",
    "\n",
    "    def __call__(self, img):\n",
    "        return self.data_transform(img)"
   ]
  },
  {
   "cell_type": "code",
   "execution_count": 62,
   "id": "183cf7fb",
   "metadata": {},
   "outputs": [],
   "source": [
    "class Img_Dataset(data.Dataset):\n",
    "\n",
    "    def __init__(self, file_list, transform):\n",
    "        self.file_list = file_list\n",
    "        self.transform = transform\n",
    "\n",
    "    def __len__(self):\n",
    "        return len(self.file_list)\n",
    "\n",
    "    def __getitem__(self, index):\n",
    "        img_path = self.file_list[index]\n",
    "        img = Image.open(img_path)\n",
    "        img_transformed = self.transform(img)\n",
    "        img_label = label[index]\n",
    "\n",
    "        return img_transformed,img_label"
   ]
  },
  {
   "cell_type": "code",
   "execution_count": 63,
   "id": "52506271",
   "metadata": {},
   "outputs": [],
   "source": [
    "train_img_list=make_file_list()"
   ]
  },
  {
   "cell_type": "code",
   "execution_count": 64,
   "id": "96736b76",
   "metadata": {},
   "outputs": [
    {
     "name": "stdout",
     "output_type": "stream",
     "text": [
      "210.0\n",
      "19935.0\n",
      "20218.0\n",
      "7304.0\n",
      "454.0\n"
     ]
    }
   ],
   "source": [
    "for i in range(5):\n",
    "    print(class_num[i])"
   ]
  },
  {
   "cell_type": "code",
   "execution_count": 65,
   "id": "ee32f4c8",
   "metadata": {},
   "outputs": [],
   "source": [
    "train_dataset = Img_Dataset(file_list=train_img_list,\n",
    "                            transform=ImageTransform())"
   ]
  },
  {
   "cell_type": "code",
   "execution_count": 66,
   "id": "1a3c81f5",
   "metadata": {},
   "outputs": [
    {
     "name": "stdout",
     "output_type": "stream",
     "text": [
      "Dataloader created\n"
     ]
    }
   ],
   "source": [
    "train_dataloader = data.DataLoader(train_dataset,\n",
    "                                   batch_size=128,\n",
    "                                   shuffle=True,\n",
    "                                   drop_last=True)\n",
    "print('Dataloader created')"
   ]
  },
  {
   "cell_type": "code",
   "execution_count": 67,
   "id": "8d410678",
   "metadata": {},
   "outputs": [],
   "source": [
    "path_dir = 'LJH/data/product_data/val/Item-Parse_f'\n",
    "path_dir_img = 'valid'\n",
    "file_list_val = os.listdir(path_dir)\n",
    "Val_size = len(file_list_val)\n",
    "label_val = [0 for i in range(Val_size)] \n",
    "def make_file_list_val():\n",
    "    val_img_list = [0 for i in range(Val_size)]\n",
    "    cnt = 0\n",
    "    #for i in file_list_test:\n",
    "    for i in range(Val_size):\n",
    "    \n",
    "        with open(path_dir +'/'+ file_list_val[cnt], \"r\") as st_json:\n",
    "            load_data = json.load(st_json)\n",
    "\n",
    "        category = load_data.get('category_id') #class 찾아오기\n",
    "        #print(category)\n",
    "        str = file_list_val[cnt].split('.')[0]\n",
    "        val_img_list[cnt] = path_dir_img +'/'+ str+\".jpg\" #이미지파일 파일명 생성\n",
    "        label_val[cnt] = category\n",
    "\n",
    "        cnt+=1\n",
    "\n",
    "    return val_img_list"
   ]
  },
  {
   "cell_type": "code",
   "execution_count": 68,
   "id": "02818066",
   "metadata": {},
   "outputs": [],
   "source": [
    "class Img_Dataset(data.Dataset):\n",
    "\n",
    "    def __init__(self, file_list, transform):\n",
    "        self.file_list = file_list\n",
    "        self.transform = transform\n",
    "\n",
    "    def __len__(self):\n",
    "        return len(self.file_list)\n",
    "\n",
    "    def __getitem__(self, index):\n",
    "        img_path = self.file_list[index]\n",
    "        img = Image.open(img_path)\n",
    "        img_transformed = self.transform(img)\n",
    "        img_label = label_val[index]\n",
    "\n",
    "        return img_transformed,img_label"
   ]
  },
  {
   "cell_type": "code",
   "execution_count": 69,
   "id": "95ba6310",
   "metadata": {},
   "outputs": [],
   "source": [
    "val_img_list=make_file_list_val()"
   ]
  },
  {
   "cell_type": "code",
   "execution_count": 70,
   "id": "8f51f68e",
   "metadata": {},
   "outputs": [],
   "source": [
    "val_dataset = Img_Dataset(file_list=val_img_list, transform=ImageTransform())"
   ]
  },
  {
   "cell_type": "code",
   "execution_count": 71,
   "id": "b187ba5b",
   "metadata": {},
   "outputs": [],
   "source": [
    "val_dataloader = data.DataLoader(val_dataset,\n",
    "                                   batch_size=128,\n",
    "                                   shuffle=False,\n",
    "                                   drop_last=True)"
   ]
  },
  {
   "cell_type": "code",
   "execution_count": 72,
   "id": "2c71dbf2",
   "metadata": {},
   "outputs": [],
   "source": [
    "batch_iterator = iter(train_dataloader)\n",
    "images = next(batch_iterator)"
   ]
  },
  {
   "cell_type": "code",
   "execution_count": 73,
   "id": "7bac7ea3",
   "metadata": {},
   "outputs": [
    {
     "data": {
      "image/png": "[encoded data removed]",
      "text/plain": [
       "<Figure size 432x288 with 1 Axes>"
      ]
     },
     "metadata": {
      "needs_background": "light"
     },
     "output_type": "display_data"
    }
   ],
   "source": [
    "plt.imshow(images[0][3][0])\n",
    "plt.show() "
   ]
  },
  {
   "cell_type": "code",
   "execution_count": 74,
   "id": "ff67910a",
   "metadata": {},
   "outputs": [
    {
     "name": "stdout",
     "output_type": "stream",
     "text": [
      "cuda\n"
     ]
    }
   ],
   "source": [
    "device = torch.device('cuda' if torch.cuda.is_available() else 'cpu')\n",
    "print(device)"
   ]
  },
  {
   "cell_type": "code",
   "execution_count": 75,
   "id": "5a6fa87d",
   "metadata": {},
   "outputs": [],
   "source": [
    "class Alexnet(torch.nn.Module): \n",
    "    def __init__(self): \n",
    "        super(Alexnet, self).__init__() \n",
    "        self.features = nn.Sequential(\n",
    "            nn.Conv2d(3, 64, kernel_size=11, stride=4, padding=2),\n",
    "            nn.LeakyReLU(0.2),\n",
    "            nn.MaxPool2d(kernel_size=3, stride=2),\n",
    "            nn.Conv2d(64, 192, kernel_size=5, padding=2),\n",
    "            nn.LeakyReLU(0.2),\n",
    "            nn.MaxPool2d(kernel_size=3, stride=2),\n",
    "            nn.Conv2d(192, 384, kernel_size=3, padding=1),\n",
    "            nn.LeakyReLU(0.2),\n",
    "            nn.Conv2d(384, 256, kernel_size=3, padding=1),\n",
    "            nn.LeakyReLU(0.2),\n",
    "            nn.Conv2d(256, 256, kernel_size=3, padding=1),\n",
    "            nn.LeakyReLU(0.2),\n",
    "            nn.MaxPool2d(kernel_size=3, stride=2),\n",
    "        )\n",
    "        self.avgpool = nn.AdaptiveAvgPool2d((6, 6))\n",
    "        self.classifier = nn.Sequential(\n",
    "            nn.Dropout(),\n",
    "            nn.Linear(256 * 6 * 6, 4096),\n",
    "            nn.LeakyReLU(0.2),\n",
    "            nn.Dropout(),\n",
    "            nn.Linear(4096, 4096),\n",
    "            nn.LeakyReLU(0.2),\n",
    "            nn.Linear(4096, 5),\n",
    "        )\n",
    "        \n",
    "#    def init_bias(self):\n",
    "#        for layer in self.net:\n",
    "#            if isinstance(layer, nn.Conv2d):\n",
    "#                nn.init.normal_(layer.weight, mean=0, std=0.01)\n",
    "#                nn.init.constant_(layer.bias, 0)\n",
    "#        \n",
    "#        nn.init.constant_(self.net[4].bias, 1)\n",
    "#        nn.init.constant_(self.net[10].bias, 1)\n",
    "#        nn.init.constant_(self.net[12].bias, 1)\n",
    "\n",
    "    def forward(self, x: torch.Tensor) -> torch.Tensor:\n",
    "        x = self.features(x)\n",
    "        x = self.avgpool(x)\n",
    "        x = torch.flatten(x, 1)\n",
    "        x = self.classifier(x)\n",
    "        return x\n",
    "        "
   ]
  },
  {
   "cell_type": "code",
   "execution_count": 76,
   "id": "0c0d1bca",
   "metadata": {},
   "outputs": [
    {
     "name": "stdout",
     "output_type": "stream",
     "text": [
      "----------------------------------------------------------------\n",
      "        Layer (type)               Output Shape         Param #\n",
      "================================================================\n",
      "            Conv2d-1          [128, 64, 63, 63]          23,296\n",
      "         LeakyReLU-2          [128, 64, 63, 63]               0\n",
      "         MaxPool2d-3          [128, 64, 31, 31]               0\n",
      "            Conv2d-4         [128, 192, 31, 31]         307,392\n",
      "         LeakyReLU-5         [128, 192, 31, 31]               0\n",
      "         MaxPool2d-6         [128, 192, 15, 15]               0\n",
      "            Conv2d-7         [128, 384, 15, 15]         663,936\n",
      "         LeakyReLU-8         [128, 384, 15, 15]               0\n",
      "            Conv2d-9         [128, 256, 15, 15]         884,992\n",
      "        LeakyReLU-10         [128, 256, 15, 15]               0\n",
      "           Conv2d-11         [128, 256, 15, 15]         590,080\n",
      "        LeakyReLU-12         [128, 256, 15, 15]               0\n",
      "        MaxPool2d-13           [128, 256, 7, 7]               0\n",
      "AdaptiveAvgPool2d-14           [128, 256, 6, 6]               0\n",
      "          Dropout-15                [128, 9216]               0\n",
      "           Linear-16                [128, 4096]      37,752,832\n",
      "        LeakyReLU-17                [128, 4096]               0\n",
      "          Dropout-18                [128, 4096]               0\n",
      "           Linear-19                [128, 4096]      16,781,312\n",
      "        LeakyReLU-20                [128, 4096]               0\n",
      "           Linear-21                   [128, 5]          20,485\n",
      "================================================================\n",
      "Total params: 57,024,325\n",
      "Trainable params: 57,024,325\n",
      "Non-trainable params: 0\n",
      "----------------------------------------------------------------\n",
      "Input size (MB): 96.00\n",
      "Forward/backward pass size (MB): 1402.75\n",
      "Params size (MB): 217.53\n",
      "Estimated Total Size (MB): 1716.29\n",
      "----------------------------------------------------------------\n"
     ]
    }
   ],
   "source": [
    "from torchsummary import summary as summary_\n",
    "DEVICE_IDS = [0,1]\n",
    "model = Alexnet().to(device)\n",
    "summary_(model,(3,256,256),batch_size = 128)\n",
    "Alexnet = torch.nn.parallel.DataParallel(Alexnet, device_ids=DEVICE_IDS)"
   ]
  },
  {
   "cell_type": "code",
   "execution_count": 77,
   "id": "e100cc28",
   "metadata": {},
   "outputs": [],
   "source": [
    "criterion = torch.nn.CrossEntropyLoss().to(device) \n",
    "optimizer = torch.optim.Adam(model.parameters(), lr=0.0001)"
   ]
  },
  {
   "cell_type": "code",
   "execution_count": 78,
   "id": "c96566c5",
   "metadata": {},
   "outputs": [
    {
     "name": "stdout",
     "output_type": "stream",
     "text": [
      "[Epoch:    1] loss = 0.665704787   test_loss = 0.392888397\n",
      "[Epoch:    2] loss = 0.330070496   test_loss = 0.366014242\n",
      "[Epoch:    3] loss = 0.264657617   test_loss = 0.274556935\n",
      "[Epoch:    4] loss = 0.228254229   test_loss = 0.237242281\n",
      "[Epoch:    5] loss = 0.208280504   test_loss = 0.252776921\n",
      "[Epoch:    6] loss = 0.194451243   test_loss = 0.218861163\n",
      "[Epoch:    7] loss = 0.178600639   test_loss = 0.220801935\n",
      "[Epoch:    8] loss = 0.169492379   test_loss = 0.201792255\n",
      "[Epoch:    9] loss = 0.159979165   test_loss = 0.203413948\n",
      "[Epoch:   10] loss = 0.148931846   test_loss = 0.179319248\n"
     ]
    }
   ],
   "source": [
    "total_batch = len(train_dataloader)\n",
    "val_total_batch = len(val_dataloader)\n",
    "epochs = 10\n",
    "x_values = []\n",
    "train_loss = []\n",
    "test_loss = []\n",
    "for epoch in range(epochs): \n",
    "    avg_cost = 0 \n",
    "    cnt = 0\n",
    "    val_avg_cost = 0\n",
    "    \n",
    "    for X, Y in train_dataloader: \n",
    "        X = X.to(device) \n",
    "        Y = Y.to(device) \n",
    "        \n",
    "        optimizer.zero_grad() \n",
    "        hypothesis = model(X) \n",
    "        cost = criterion(hypothesis, Y) \n",
    "        cost.backward() \n",
    "        optimizer.step() \n",
    "       \n",
    "        avg_cost += cost / total_batch\n",
    "        \n",
    "    with torch.no_grad():\n",
    "        for A, B in val_dataloader:\n",
    "            A = A.to(device)\n",
    "            B = B.to(device)\n",
    "            val_output = model(A)\n",
    "            val_loss = criterion(val_output,B)\n",
    "            val_avg_cost += val_loss / val_total_batch\n",
    "\n",
    "    x_values.append(epoch+1)\n",
    "    train_loss.append(avg_cost)\n",
    "    test_loss.append(val_avg_cost)\n",
    " \n",
    "    print('[Epoch: {:>4}] loss = {:>.9}   test_loss = {:>.9}'.format(epoch + 1, avg_cost, val_avg_cost))"
   ]
  },
  {
   "cell_type": "code",
   "execution_count": 79,
   "id": "66572338",
   "metadata": {},
   "outputs": [
    {
     "data": {
      "image/png": "[encoded data removed]",
      "text/plain": [
       "<Figure size 432x288 with 1 Axes>"
      ]
     },
     "metadata": {
      "needs_background": "light"
     },
     "output_type": "display_data"
    }
   ],
   "source": [
    "plt.plot(x_values, train_loss)\n",
    "plt.plot(x_values, test_loss)\n",
    "plt.legend(['train loss', 'valid loss'])\n",
    "plt.show()"
   ]
  },
  {
   "cell_type": "code",
   "execution_count": 80,
   "id": "deee8802",
   "metadata": {},
   "outputs": [],
   "source": [
    "path_dir = 'LJH/data/product_data/test/Item-Parse_f'\n",
    "path_dir_img = 'test'\n",
    "file_list_test = os.listdir(path_dir)\n",
    "Test_size = len(file_list_test)\n",
    "#label_test = [0 for i in range(len(file_list_test))] #list형\n",
    "label_test = [0 for i in range(Test_size)] \n",
    "def make_file_list_test():\n",
    "    #test_img_list = [0 for i in range(len(file_list_test))]\n",
    "    test_img_list = [0 for i in range(Test_size)]\n",
    "    cnt = 0\n",
    "    #for i in file_list_test:\n",
    "    for i in range(Test_size):\n",
    "    \n",
    "        with open(path_dir +'/'+ file_list_test[cnt], \"r\") as st_json:\n",
    "            load_data = json.load(st_json)\n",
    "\n",
    "        category = load_data.get('category_id') #class 찾아오기\n",
    "        #print(category)\n",
    "        str = file_list_test[cnt].split('.')[0]\n",
    "        test_img_list[cnt] = path_dir_img +'/'+ str+\".jpg\" #이미지파일 파일명 생성\n",
    "        label_test[cnt] = category\n",
    "\n",
    "        cnt+=1\n",
    "\n",
    "    return test_img_list"
   ]
  },
  {
   "cell_type": "code",
   "execution_count": 81,
   "id": "76c4a898",
   "metadata": {},
   "outputs": [],
   "source": [
    "class Img_Dataset(data.Dataset):\n",
    "\n",
    "    def __init__(self, file_list, transform):\n",
    "        self.file_list = file_list\n",
    "        self.transform = transform\n",
    "\n",
    "    def __len__(self):\n",
    "        return len(self.file_list)\n",
    "\n",
    "    def __getitem__(self, index):\n",
    "        img_path = self.file_list[index]\n",
    "        img = Image.open(img_path)\n",
    "        img_transformed = self.transform(img)\n",
    "        img_label = label_test[index]\n",
    "\n",
    "        return img_transformed,img_label"
   ]
  },
  {
   "cell_type": "code",
   "execution_count": 82,
   "id": "d0f77d17",
   "metadata": {},
   "outputs": [],
   "source": [
    "test_img_list=make_file_list_test()"
   ]
  },
  {
   "cell_type": "code",
   "execution_count": 83,
   "id": "4f6c76d3",
   "metadata": {},
   "outputs": [
    {
     "data": {
      "text/plain": [
       "'from torchvision.transforms import ToTensor\\nX_test = torch.empty(0,3,256,256)\\ncnt_img = 0\\n\\nfor j in test_img_list:\\n    image = Image.open(test_img_list[cnt_img])\\n    #image = image.crop((0,280,720,1000))\\n    #image = image.resize((256, 256))\\n    data = ToTensor()(image).unsqueeze(0)\\n    X_test =torch.cat([X_test,data],dim=0)\\n    cnt_img += 1\\n    if cnt_img % 1000 == 0:\\n        print(cnt_img)'"
      ]
     },
     "execution_count": 83,
     "metadata": {},
     "output_type": "execute_result"
    }
   ],
   "source": [
    "\"\"\"from torchvision.transforms import ToTensor\n",
    "X_test = torch.empty(0,3,256,256)\n",
    "cnt_img = 0\n",
    "\n",
    "for j in test_img_list:\n",
    "    image = Image.open(test_img_list[cnt_img])\n",
    "    #image = image.crop((0,280,720,1000))\n",
    "    #image = image.resize((256, 256))\n",
    "    data = ToTensor()(image).unsqueeze(0)\n",
    "    X_test =torch.cat([X_test,data],dim=0)\n",
    "    cnt_img += 1\n",
    "    if cnt_img % 1000 == 0:\n",
    "        print(cnt_img)\"\"\""
   ]
  },
  {
   "cell_type": "code",
   "execution_count": 84,
   "id": "3e9b0a9d",
   "metadata": {},
   "outputs": [],
   "source": [
    "#print(X_test.shape)"
   ]
  },
  {
   "cell_type": "code",
   "execution_count": 85,
   "id": "b9ede4d7",
   "metadata": {},
   "outputs": [],
   "source": [
    "#Y_test = torch.tensor(label_test)"
   ]
  },
  {
   "cell_type": "code",
   "execution_count": 86,
   "id": "d626be39",
   "metadata": {},
   "outputs": [],
   "source": [
    "test_dataset = Img_Dataset(file_list=test_img_list, transform=ImageTransform())\n"
   ]
  },
  {
   "cell_type": "code",
   "execution_count": 87,
   "id": "91f55fc8",
   "metadata": {},
   "outputs": [],
   "source": [
    "test_dataloader = data.DataLoader(test_dataset,\n",
    "                                   batch_size=32,\n",
    "                                   shuffle=False,\n",
    "                                   drop_last=True)"
   ]
  },
  {
   "cell_type": "code",
   "execution_count": 88,
   "id": "d78aaa12",
   "metadata": {},
   "outputs": [
    {
     "name": "stdout",
     "output_type": "stream",
     "text": [
      "<class 'torch.utils.data.dataloader.DataLoader'>\n"
     ]
    }
   ],
   "source": [
    "print(type(test_dataloader))"
   ]
  },
  {
   "cell_type": "code",
   "execution_count": 89,
   "id": "7a54e011",
   "metadata": {},
   "outputs": [
    {
     "name": "stdout",
     "output_type": "stream",
     "text": [
      "Accuracy of 0 : 87 %\n",
      "Accuracy of 1 : 83 %\n",
      "Accuracy of 2 : 92 %\n",
      "Accuracy of 3 : 98 %\n",
      "Accuracy of 4 : 97 %\n",
      "total Accurarcy : 93 %\n",
      "\n",
      "Num  of total : 7397 / 7904  \n",
      "Num of 0 : 21 / 24\n",
      "Num of 1 : 742 / 889\n",
      "Num of 2 : 3871 / 4176\n",
      "Num of 3 : 2685 / 2735\n",
      "Num of 4 : 78 / 80\n"
     ]
    }
   ],
   "source": [
    "#Testing classification accuracy for individual classes.\n",
    "correct = 0\n",
    "total = 0\n",
    "class_correct = list(0. for i in range(5))\n",
    "class_total = list(0. for i in range(5))\n",
    "arr = [[0]*5 for i in range(5)]\n",
    "with torch.no_grad():\n",
    "    for datas in test_dataloader:\n",
    "        images, labels = datas[0].to(device), datas[1].to(device)\n",
    "        outputs = model(images)\n",
    "        _, predicted = torch.max(outputs, 1)\n",
    "        c = (predicted == labels).squeeze()\n",
    "        for i in range(32):\n",
    "            label = labels[i]\n",
    "            class_correct[label] += c[i].item()\n",
    "            class_total[label] += 1\n",
    "            arr[label][predicted[i]] += 1\n",
    "        total += labels.size(0)\n",
    "        correct += (predicted == labels).sum().item()\n",
    "\n",
    "for i in range(5):\n",
    "    print('Accuracy of %d : %2d %%' % (\n",
    "        i, 100 * class_correct[i] / class_total[i]))\n",
    "\n",
    "print('total Accurarcy : %2d %%' %(100 * correct / total))\n",
    "print()\n",
    "print('Num  of total : %2d / %2d  ' %(correct, total))\n",
    "for i in range(5):\n",
    "    print('Num of %d : %2d / %2d' % (\n",
    "        i, class_correct[i], class_total[i]))"
   ]
  },
  {
   "cell_type": "code",
   "execution_count": 90,
   "id": "4f30e91c",
   "metadata": {},
   "outputs": [],
   "source": [
    "from sklearn.metrics import confusion_matrix, plot_confusion_matrix\n",
    "import matplotlib.pyplot as plt\n",
    "import pandas as pd\n",
    "import seaborn as sn"
   ]
  },
  {
   "cell_type": "code",
   "execution_count": 91,
   "id": "b57e48e0",
   "metadata": {},
   "outputs": [
    {
     "data": {
      "image/png": "[encoded data removed]",
      "text/plain": [
       "<Figure size 720x504 with 2 Axes>"
      ]
     },
     "metadata": {
      "needs_background": "light"
     },
     "output_type": "display_data"
    }
   ],
   "source": [
    "classes = [\"hat and cap\", \"outer\", \"top\", \"bottom\",\"shoes\"]\n",
    "df_cfm = pd.DataFrame(arr, index = classes, columns = classes)\n",
    "plt.figure(figsize = (10,7))\n",
    "cfm_plot = sn.heatmap(df_cfm, annot=True, cmap='Oranges', fmt='g')"
   ]
  },
  {
   "cell_type": "code",
   "execution_count": 92,
   "id": "3675c935",
   "metadata": {},
   "outputs": [],
   "source": [
    "# 0:hat 1:outer 2:top 3:bottom 4: shoes"
   ]
  },
  {
   "cell_type": "code",
   "execution_count": null,
   "id": "7fd15730",
   "metadata": {},
   "outputs": [],
   "source": []
  }
 ],
 "metadata": {
  "kernelspec": {
   "display_name": "Python 3 (ipykernel)",
   "language": "python",
   "name": "python3"
  },
  "language_info": {
   "codemirror_mode": {
    "name": "ipython",
    "version": 3
   },
   "file_extension": ".py",
   "mimetype": "text/x-python",
   "name": "python",
   "nbconvert_exporter": "python",
   "pygments_lexer": "ipython3",
   "version": "3.8.10"
  }
 },
 "nbformat": 4,
 "nbformat_minor": 5
}
