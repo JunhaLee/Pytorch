{
 "cells": [
  {
   "cell_type": "code",
   "execution_count": 42,
   "id": "d5ca2295",
   "metadata": {},
   "outputs": [],
   "source": [
    "import torch\n",
    "import torchvision.transforms as transforms \n",
    "import torch.nn.init\n",
    "from torchsummary import summary as summary_\n",
    "import json\n",
    "from PIL import Image\n",
    "import numpy as np\n",
    "import matplotlib.pyplot as plt\n",
    "import os\n",
    "import glob\n",
    "import torch.nn as nn\n",
    "import torch.optim as optim\n",
    "import torch.nn.functional as F\n",
    "from torch.utils import data\n",
    "import torchvision.datasets as datasets\n",
    "from matplotlib import pyplot as plt"
   ]
  },
  {
   "cell_type": "code",
   "execution_count": 43,
   "id": "b2e88a66",
   "metadata": {},
   "outputs": [],
   "source": [
    "#Train data 받아오기\n",
    "class_num = list(0. for i in range(5))\n",
    "\n",
    "path_dir = 'LJH/data/product_data/train/Item-Parse_f' #Parse 폴더에서 파일명 불러오기\n",
    "file_list_train = os.listdir(path_dir)"
   ]
  },
  {
   "cell_type": "code",
   "execution_count": 44,
   "id": "2f69aa04",
   "metadata": {},
   "outputs": [],
   "source": [
    "TRAIN_SIZE = len(file_list_train)\n",
    "label = [0 for i in range(TRAIN_SIZE)] #list형\n",
    "path_dir_img = 'train'\n",
    "\n",
    "def make_file_list():\n",
    "    #train_img_list = [0 for i in range(len(file_list_train))]\n",
    "    train_img_list = [0 for i in range(TRAIN_SIZE)]\n",
    "    cnt = 0\n",
    "    #for i in file_list_train:\n",
    "    for i in range(TRAIN_SIZE):\n",
    "    \n",
    "        with open(path_dir +'/'+ file_list_train[cnt], \"r\") as st_json:\n",
    "            load_data = json.load(st_json)\n",
    "\n",
    "        category = load_data.get('category_id') #class 찾아오기\n",
    "        class_num[category]+=1\n",
    "        #print(category)\n",
    "        str = file_list_train[cnt].split('.')[0]\n",
    "        train_img_list[cnt] = path_dir_img +'/'+ str+\".jpg\" #이미지파일 파일명 생성\n",
    "        label[cnt] = category\n",
    "\n",
    "        cnt+=1\n",
    "\n",
    "    return train_img_list\n"
   ]
  },
  {
   "cell_type": "code",
   "execution_count": 45,
   "id": "d4ff41f1",
   "metadata": {},
   "outputs": [],
   "source": [
    "class ImageTransform():\n",
    "\n",
    "    def __init__(self):\n",
    "        \n",
    "        self.data_transform = transforms.Compose([\n",
    "            #transforms.CenterCrop(720),\n",
    "            #transforms.Resize(256),\n",
    "            #transforms.Normalize([train_meanR, train_meanG, train_meanB], [train_stdR, train_stdG, train_stdB]),\n",
    "            transforms.ToTensor(),\n",
    "        ])\n",
    "        \n",
    "\n",
    "    def __call__(self, img):\n",
    "        return self.data_transform(img)"
   ]
  },
  {
   "cell_type": "code",
   "execution_count": 46,
   "id": "9778be8e",
   "metadata": {},
   "outputs": [],
   "source": [
    "class Img_Dataset(data.Dataset):\n",
    "\n",
    "    def __init__(self, file_list, transform):\n",
    "        self.file_list = file_list\n",
    "        self.transform = transform\n",
    "\n",
    "    def __len__(self):\n",
    "        return len(self.file_list)\n",
    "\n",
    "    def __getitem__(self, index):\n",
    "        img_path = self.file_list[index]\n",
    "        img = Image.open(img_path)\n",
    "        img_transformed = self.transform(img)\n",
    "        img_label = label[index]\n",
    "\n",
    "        return img_transformed,img_label"
   ]
  },
  {
   "cell_type": "code",
   "execution_count": 47,
   "id": "465ebd60",
   "metadata": {},
   "outputs": [],
   "source": [
    "train_img_list=make_file_list()"
   ]
  },
  {
   "cell_type": "code",
   "execution_count": 48,
   "id": "fe00122d",
   "metadata": {},
   "outputs": [
    {
     "name": "stdout",
     "output_type": "stream",
     "text": [
      "210.0\n",
      "19935.0\n",
      "20218.0\n",
      "7304.0\n",
      "454.0\n"
     ]
    }
   ],
   "source": [
    "for i in range(5):\n",
    "    print(class_num[i])"
   ]
  },
  {
   "cell_type": "code",
   "execution_count": 49,
   "id": "722b8c1c",
   "metadata": {},
   "outputs": [],
   "source": [
    "train_dataset = Img_Dataset(file_list=train_img_list,\n",
    "                            transform=ImageTransform())"
   ]
  },
  {
   "cell_type": "code",
   "execution_count": 50,
   "id": "09499094",
   "metadata": {},
   "outputs": [
    {
     "name": "stdout",
     "output_type": "stream",
     "text": [
      "Dataloader created\n"
     ]
    }
   ],
   "source": [
    "train_dataloader = data.DataLoader(train_dataset,\n",
    "                                   batch_size=128,\n",
    "                                   shuffle=True,\n",
    "                                   drop_last=True)\n",
    "print('Dataloader created')"
   ]
  },
  {
   "cell_type": "code",
   "execution_count": 51,
   "id": "d7aaf244",
   "metadata": {},
   "outputs": [],
   "source": [
    "path_dir = 'LJH/data/product_data/val/Item-Parse_f'\n",
    "path_dir_img = 'valid'\n",
    "file_list_val = os.listdir(path_dir)\n",
    "Val_size = len(file_list_val)\n",
    "label_val = [0 for i in range(Val_size)] \n",
    "class_num_v = list(0. for i in range(5))\n",
    "def make_file_list_val():\n",
    "    val_img_list = [0 for i in range(Val_size)]\n",
    "    cnt = 0\n",
    "    #for i in file_list_test:\n",
    "    for i in range(Val_size):\n",
    "    \n",
    "        with open(path_dir +'/'+ file_list_val[cnt], \"r\") as st_json:\n",
    "            load_data = json.load(st_json)\n",
    "\n",
    "        category = load_data.get('category_id') #class 찾아오기\n",
    "        class_num_v[category]+=1\n",
    "        #print(category)\n",
    "        str = file_list_val[cnt].split('.')[0]\n",
    "        val_img_list[cnt] = path_dir_img +'/'+ str+\".jpg\" #이미지파일 파일명 생성\n",
    "        label_val[cnt] = category\n",
    "\n",
    "        cnt+=1\n",
    "\n",
    "    return val_img_list"
   ]
  },
  {
   "cell_type": "code",
   "execution_count": 52,
   "id": "7a6bb9c1",
   "metadata": {},
   "outputs": [],
   "source": [
    "class Img_Dataset(data.Dataset):\n",
    "\n",
    "    def __init__(self, file_list, transform):\n",
    "        self.file_list = file_list\n",
    "        self.transform = transform\n",
    "\n",
    "    def __len__(self):\n",
    "        return len(self.file_list)\n",
    "\n",
    "    def __getitem__(self, index):\n",
    "        img_path = self.file_list[index]\n",
    "        img = Image.open(img_path)\n",
    "        img_transformed = self.transform(img)\n",
    "        img_label = label_val[index]\n",
    "\n",
    "        return img_transformed,img_label"
   ]
  },
  {
   "cell_type": "code",
   "execution_count": 53,
   "id": "227da5d3",
   "metadata": {},
   "outputs": [],
   "source": [
    "val_img_list=make_file_list_val()"
   ]
  },
  {
   "cell_type": "code",
   "execution_count": 54,
   "id": "7a9708e3",
   "metadata": {},
   "outputs": [
    {
     "name": "stdout",
     "output_type": "stream",
     "text": [
      "24.0\n",
      "944.0\n",
      "4182.0\n",
      "2768.0\n",
      "60.0\n"
     ]
    }
   ],
   "source": [
    "for i in range(5):\n",
    "    print(class_num_v[i])"
   ]
  },
  {
   "cell_type": "code",
   "execution_count": 55,
   "id": "3e0e4ceb",
   "metadata": {},
   "outputs": [],
   "source": [
    "val_dataset = Img_Dataset(file_list=val_img_list, transform=ImageTransform())"
   ]
  },
  {
   "cell_type": "code",
   "execution_count": 56,
   "id": "03455801",
   "metadata": {},
   "outputs": [],
   "source": [
    "val_dataloader = data.DataLoader(val_dataset,\n",
    "                                   batch_size=128,\n",
    "                                   shuffle=False,\n",
    "                                   drop_last=True)"
   ]
  },
  {
   "cell_type": "code",
   "execution_count": 57,
   "id": "73275f8e",
   "metadata": {},
   "outputs": [],
   "source": [
    "batch_iterator = iter(train_dataloader)\n",
    "images = next(batch_iterator)"
   ]
  },
  {
   "cell_type": "code",
   "execution_count": 58,
   "id": "9f719743",
   "metadata": {},
   "outputs": [
    {
     "name": "stdout",
     "output_type": "stream",
     "text": [
      "cuda\n"
     ]
    }
   ],
   "source": [
    "device = torch.device('cuda' if torch.cuda.is_available() else 'cpu')\n",
    "print(device)"
   ]
  },
  {
   "cell_type": "code",
   "execution_count": 59,
   "id": "02f19c8f",
   "metadata": {},
   "outputs": [],
   "source": [
    "class VGG11(nn.Module):\n",
    "    def __init__(self,init_weights: bool = True):\n",
    "        super(VGG11, self).__init__()\n",
    "        self.convnet = nn.Sequential(\n",
    "            # Input Channel (RGB: 3)\n",
    "            nn.Conv2d(in_channels=3, out_channels=64, kernel_size=3, padding=1, stride=1),\n",
    "            nn.LeakyReLU(0.2),\n",
    "            nn.MaxPool2d(kernel_size=2, stride=2),\n",
    "            \n",
    "            nn.Conv2d(in_channels=64, out_channels=128, kernel_size=3, padding=1, stride=1),\n",
    "            nn.LeakyReLU(0.2),\n",
    "            nn.MaxPool2d(kernel_size=2, stride=2), \n",
    "            \n",
    "            nn.Conv2d(in_channels=128, out_channels=256, kernel_size=3, padding=1, stride=1),\n",
    "            nn.LeakyReLU(0.2),\n",
    "            nn.Conv2d(in_channels=256, out_channels=256, kernel_size=3, padding=1, stride=1),\n",
    "            nn.LeakyReLU(0.2),\n",
    "            nn.MaxPool2d(kernel_size=2, stride=2), \n",
    "\n",
    "            nn.Conv2d(in_channels=256, out_channels=512, kernel_size=3, padding=1, stride=1),\n",
    "            nn.LeakyReLU(0.2),\n",
    "            nn.Conv2d(in_channels=512, out_channels=512, kernel_size=3, padding=1, stride=1),\n",
    "            nn.LeakyReLU(0.2),\n",
    "            nn.MaxPool2d(kernel_size=2, stride=2),\n",
    "\n",
    "            nn.Conv2d(in_channels=512, out_channels=512, kernel_size=3, padding=1, stride=1),\n",
    "            nn.LeakyReLU(0.2),\n",
    "            nn.Conv2d(in_channels=512, out_channels=512, kernel_size=3, padding=1, stride=1),\n",
    "            nn.LeakyReLU(0.2),\n",
    "            nn.MaxPool2d(kernel_size=2, stride=2), \n",
    "        )\n",
    "\n",
    "        self.fclayer = nn.Sequential(\n",
    "            nn.Linear(512 * 8 * 8, 4096),\n",
    "            nn.LeakyReLU(0.2),\n",
    "            nn.Dropout(p=0.5),\n",
    "            nn.Linear(4096, 4096),\n",
    "            nn.LeakyReLU(0.2),\n",
    "            nn.Dropout(p=0.5),\n",
    "            nn.Linear(4096, 5),\n",
    "        )\n",
    "    \n",
    "    def forward(self, x:torch.Tensor) -> torch.Tensor:\n",
    "        x = self.convnet(x)\n",
    "        x = torch.flatten(x, 1)\n",
    "        x = self.fclayer(x)\n",
    "        return x"
   ]
  },
  {
   "cell_type": "code",
   "execution_count": 60,
   "id": "de537ef7",
   "metadata": {},
   "outputs": [
    {
     "name": "stdout",
     "output_type": "stream",
     "text": [
      "----------------------------------------------------------------\n",
      "        Layer (type)               Output Shape         Param #\n",
      "================================================================\n",
      "            Conv2d-1        [128, 64, 256, 256]           1,792\n",
      "         LeakyReLU-2        [128, 64, 256, 256]               0\n",
      "         MaxPool2d-3        [128, 64, 128, 128]               0\n",
      "            Conv2d-4       [128, 128, 128, 128]          73,856\n",
      "         LeakyReLU-5       [128, 128, 128, 128]               0\n",
      "         MaxPool2d-6         [128, 128, 64, 64]               0\n",
      "            Conv2d-7         [128, 256, 64, 64]         295,168\n",
      "         LeakyReLU-8         [128, 256, 64, 64]               0\n",
      "            Conv2d-9         [128, 256, 64, 64]         590,080\n",
      "        LeakyReLU-10         [128, 256, 64, 64]               0\n",
      "        MaxPool2d-11         [128, 256, 32, 32]               0\n",
      "           Conv2d-12         [128, 512, 32, 32]       1,180,160\n",
      "        LeakyReLU-13         [128, 512, 32, 32]               0\n",
      "           Conv2d-14         [128, 512, 32, 32]       2,359,808\n",
      "        LeakyReLU-15         [128, 512, 32, 32]               0\n",
      "        MaxPool2d-16         [128, 512, 16, 16]               0\n",
      "           Conv2d-17         [128, 512, 16, 16]       2,359,808\n",
      "        LeakyReLU-18         [128, 512, 16, 16]               0\n",
      "           Conv2d-19         [128, 512, 16, 16]       2,359,808\n",
      "        LeakyReLU-20         [128, 512, 16, 16]               0\n",
      "        MaxPool2d-21           [128, 512, 8, 8]               0\n",
      "           Linear-22                [128, 4096]     134,221,824\n",
      "        LeakyReLU-23                [128, 4096]               0\n",
      "          Dropout-24                [128, 4096]               0\n",
      "           Linear-25                [128, 4096]      16,781,312\n",
      "        LeakyReLU-26                [128, 4096]               0\n",
      "          Dropout-27                [128, 4096]               0\n",
      "           Linear-28                   [128, 5]          20,485\n",
      "================================================================\n",
      "Total params: 160,244,101\n",
      "Trainable params: 160,244,101\n",
      "Non-trainable params: 0\n",
      "----------------------------------------------------------------\n",
      "Input size (MB): 96.00\n",
      "Forward/backward pass size (MB): 20920.00\n",
      "Params size (MB): 611.28\n",
      "Estimated Total Size (MB): 21627.29\n",
      "----------------------------------------------------------------\n"
     ]
    }
   ],
   "source": [
    "from torchsummary import summary as summary_\n",
    "DEVICE_IDS = [0,1]\n",
    "model = VGG11().to(device)\n",
    "summary_(model,(3,256,256),batch_size = 128)\n",
    "VGG11 = torch.nn.parallel.DataParallel(VGG11, device_ids=DEVICE_IDS)"
   ]
  },
  {
   "cell_type": "code",
   "execution_count": 61,
   "id": "f1d39097",
   "metadata": {},
   "outputs": [],
   "source": [
    "criterion = torch.nn.CrossEntropyLoss().to(device) \n",
    "optimizer = torch.optim.Adam(model.parameters(), lr=0.0001)"
   ]
  },
  {
   "cell_type": "code",
   "execution_count": 62,
   "id": "ef7c0b2b",
   "metadata": {},
   "outputs": [
    {
     "name": "stdout",
     "output_type": "stream",
     "text": [
      "[Epoch:    1] loss = 0.741698444   test_loss = 0.416832536\n",
      "[Epoch:    2] loss = 0.299336404   test_loss = 0.25933826\n",
      "[Epoch:    3] loss = 0.221723318   test_loss = 0.279957354\n",
      "[Epoch:    4] loss = 0.184671819   test_loss = 0.195402697\n",
      "[Epoch:    5] loss = 0.16763036   test_loss = 0.179852962\n",
      "[Epoch:    6] loss = 0.140550002   test_loss = 0.151525408\n",
      "[Epoch:    7] loss = 0.12036676   test_loss = 0.139673412\n",
      "[Epoch:    8] loss = 0.103310071   test_loss = 0.12782155\n",
      "[Epoch:    9] loss = 0.0890035406   test_loss = 0.127396792\n",
      "[Epoch:   10] loss = 0.0792341232   test_loss = 0.112631351\n"
     ]
    }
   ],
   "source": [
    "total_batch = len(train_dataloader)\n",
    "val_total_batch = len(val_dataloader)\n",
    "epochs = 10\n",
    "x_values = []\n",
    "train_loss = []\n",
    "test_loss = []\n",
    "for epoch in range(epochs): \n",
    "    avg_cost = 0 \n",
    "    cnt = 0\n",
    "    val_avg_cost = 0\n",
    "    \n",
    "    for X, Y in train_dataloader: \n",
    "        X = X.to(device) \n",
    "        Y = Y.to(device) \n",
    "        \n",
    "        optimizer.zero_grad() \n",
    "        hypothesis = model(X) \n",
    "        cost = criterion(hypothesis, Y) \n",
    "        cost.backward() \n",
    "        optimizer.step() \n",
    "       \n",
    "        avg_cost += cost / total_batch\n",
    "        \n",
    "    with torch.no_grad():\n",
    "        for A, B in val_dataloader:\n",
    "            A = A.to(device)\n",
    "            B = B.to(device)\n",
    "            val_output = model(A)\n",
    "            val_loss = criterion(val_output,B)\n",
    "            val_avg_cost += val_loss / val_total_batch\n",
    "\n",
    "    x_values.append(epoch+1)\n",
    "    train_loss.append(avg_cost)\n",
    "    test_loss.append(val_avg_cost)\n",
    " \n",
    "    print('[Epoch: {:>4}] loss = {:>.9}   test_loss = {:>.9}'.format(epoch + 1, avg_cost, val_avg_cost))"
   ]
  },
  {
   "cell_type": "code",
   "execution_count": 63,
   "id": "0ad7ebaf",
   "metadata": {},
   "outputs": [
    {
     "data": {
      "image/png": "[encoded data removed]",
      "text/plain": [
       "<Figure size 432x288 with 1 Axes>"
      ]
     },
     "metadata": {
      "needs_background": "light"
     },
     "output_type": "display_data"
    }
   ],
   "source": [
    "plt.plot(x_values, train_loss)\n",
    "plt.plot(x_values, test_loss)\n",
    "plt.legend(['train loss', 'valid loss'])\n",
    "plt.show()"
   ]
  },
  {
   "cell_type": "code",
   "execution_count": 64,
   "id": "14ea8f0a",
   "metadata": {},
   "outputs": [],
   "source": [
    "path_dir = 'LJH/data/product_data/test/Item-Parse_f'\n",
    "path_dir_img = 'test'\n",
    "file_list_test = os.listdir(path_dir)\n",
    "Test_size = len(file_list_test)\n",
    "#label_test = [0 for i in range(len(file_list_test))] #list형\n",
    "label_test = [0 for i in range(Test_size)] \n",
    "def make_file_list_test():\n",
    "    #test_img_list = [0 for i in range(len(file_list_test))]\n",
    "    test_img_list = [0 for i in range(Test_size)]\n",
    "    cnt = 0\n",
    "    #for i in file_list_test:\n",
    "    for i in range(Test_size):\n",
    "    \n",
    "        with open(path_dir +'/'+ file_list_test[cnt], \"r\") as st_json:\n",
    "            load_data = json.load(st_json)\n",
    "\n",
    "        category = load_data.get('category_id') #class 찾아오기\n",
    "        #print(category)\n",
    "        str = file_list_test[cnt].split('.')[0]\n",
    "        test_img_list[cnt] = path_dir_img +'/'+ str+\".jpg\" #이미지파일 파일명 생성\n",
    "        label_test[cnt] = category\n",
    "\n",
    "        cnt+=1\n",
    "\n",
    "    return test_img_list"
   ]
  },
  {
   "cell_type": "code",
   "execution_count": 65,
   "id": "d6316803",
   "metadata": {},
   "outputs": [],
   "source": [
    "class Img_Dataset_test(data.Dataset):\n",
    "\n",
    "    def __init__(self, file_list, transform):\n",
    "        self.file_list = file_list\n",
    "        self.transform = transform\n",
    "\n",
    "    def __len__(self):\n",
    "        return len(self.file_list)\n",
    "\n",
    "    def __getitem__(self, index):\n",
    "        img_path = self.file_list[index]\n",
    "        img = Image.open(img_path)\n",
    "        img_transformed = self.transform(img)\n",
    "        img_label = label_test[index]\n",
    "\n",
    "        return img_transformed,img_label"
   ]
  },
  {
   "cell_type": "code",
   "execution_count": 66,
   "id": "8be2d565",
   "metadata": {},
   "outputs": [],
   "source": [
    "test_img_list=make_file_list_test()"
   ]
  },
  {
   "cell_type": "code",
   "execution_count": 67,
   "id": "c9b16ef4",
   "metadata": {},
   "outputs": [
    {
     "data": {
      "text/plain": [
       "'# test set 전처리\\n\\nfrom torchvision.transforms import ToTensor\\nX_test = torch.empty(0,3,256,256)\\n\\n\\nimage_w = 256 \\nimage_h = 256\\ncnt_img = 0\\nfor j in test_img_list:\\n    image = Image.open(test_img_list[cnt_img])\\n    image = image.crop((0,280,720,1000))\\n    image = image.resize((256, 256))\\n    data = ToTensor()(image).unsqueeze(0)\\n    X_test =torch.cat([X_test,data],dim=0)\\n    cnt_img += 1\\n    if cnt_img % 1000 == 0:\\n        print(cnt_img)'"
      ]
     },
     "execution_count": 67,
     "metadata": {},
     "output_type": "execute_result"
    }
   ],
   "source": [
    "\"\"\"# test set 전처리\n",
    "\n",
    "from torchvision.transforms import ToTensor\n",
    "X_test = torch.empty(0,3,256,256)\n",
    "\n",
    "\n",
    "image_w = 256 \n",
    "image_h = 256\n",
    "cnt_img = 0\n",
    "for j in test_img_list:\n",
    "    image = Image.open(test_img_list[cnt_img])\n",
    "    image = image.crop((0,280,720,1000))\n",
    "    image = image.resize((256, 256))\n",
    "    data = ToTensor()(image).unsqueeze(0)\n",
    "    X_test =torch.cat([X_test,data],dim=0)\n",
    "    cnt_img += 1\n",
    "    if cnt_img % 1000 == 0:\n",
    "        print(cnt_img)\"\"\""
   ]
  },
  {
   "cell_type": "code",
   "execution_count": 68,
   "id": "24259f45",
   "metadata": {},
   "outputs": [],
   "source": [
    "#print(X_test.shape)"
   ]
  },
  {
   "cell_type": "code",
   "execution_count": 69,
   "id": "0cd84768",
   "metadata": {},
   "outputs": [],
   "source": [
    "#Y_test = torch.tensor(label_test)"
   ]
  },
  {
   "cell_type": "code",
   "execution_count": 70,
   "id": "baf2163d",
   "metadata": {},
   "outputs": [],
   "source": [
    "test_dataset = Img_Dataset_test(file_list=test_img_list, transform=ImageTransform())"
   ]
  },
  {
   "cell_type": "code",
   "execution_count": 71,
   "id": "79954ada",
   "metadata": {},
   "outputs": [],
   "source": [
    "test_dataloader = data.DataLoader(test_dataset,\n",
    "                                   batch_size=32,\n",
    "                                   shuffle=False,\n",
    "                                   drop_last=True)"
   ]
  },
  {
   "cell_type": "code",
   "execution_count": 72,
   "id": "2b236018",
   "metadata": {},
   "outputs": [
    {
     "name": "stdout",
     "output_type": "stream",
     "text": [
      "Accuracy of 0 : 100 %\n",
      "Accuracy of 1 : 81 %\n",
      "Accuracy of 2 : 97 %\n",
      "Accuracy of 3 : 99 %\n",
      "Accuracy of 4 : 100 %\n",
      "total Accurarcy : 96 %\n",
      "\n",
      "Num  of total : 7600 / 7904  \n",
      "Num of 0 : 24 / 24\n",
      "Num of 1 : 724 / 889\n",
      "Num of 2 : 4059 / 4176\n",
      "Num of 3 : 2713 / 2735\n",
      "Num of 4 : 80 / 80\n"
     ]
    }
   ],
   "source": [
    "#Testing classification accuracy for individual classes.\n",
    "correct = 0\n",
    "total = 0\n",
    "class_correct = list(0. for i in range(5))\n",
    "class_total = list(0. for i in range(5))\n",
    "arr = [[0]*5 for i in range(5)]\n",
    "with torch.no_grad():\n",
    "    for datas in test_dataloader:\n",
    "        images, labels = datas[0].to(device), datas[1].to(device)\n",
    "        outputs = model(images)\n",
    "        _, predicted = torch.max(outputs, 1)\n",
    "        c = (predicted == labels).squeeze()\n",
    "        for i in range(32):\n",
    "            label = labels[i]\n",
    "            class_correct[label] += c[i].item()\n",
    "            class_total[label] += 1\n",
    "            arr[label][predicted[i]] += 1\n",
    "        total += labels.size(0)\n",
    "        correct += (predicted == labels).sum().item()\n",
    "\n",
    "for i in range(5):\n",
    "    print('Accuracy of %d : %2d %%' % (\n",
    "        i, 100 * class_correct[i] / class_total[i]))\n",
    "print('total Accurarcy : %2d %%' %(100 * correct / total))\n",
    "print()\n",
    "print('Num  of total : %2d / %2d  ' %(correct, total))\n",
    "for i in range(5):\n",
    "    print('Num of %d : %2d / %2d' % (\n",
    "        i, class_correct[i], class_total[i]))"
   ]
  },
  {
   "cell_type": "code",
   "execution_count": 73,
   "id": "634fbc24",
   "metadata": {},
   "outputs": [],
   "source": [
    "from sklearn.metrics import confusion_matrix, plot_confusion_matrix\n",
    "import matplotlib.pyplot as plt\n",
    "import pandas as pd\n",
    "import seaborn as sn"
   ]
  },
  {
   "cell_type": "code",
   "execution_count": 74,
   "id": "eaacf10b",
   "metadata": {},
   "outputs": [
    {
     "data": {
      "image/png": "[encoded data removed]",
      "text/plain": [
       "<Figure size 720x504 with 2 Axes>"
      ]
     },
     "metadata": {
      "needs_background": "light"
     },
     "output_type": "display_data"
    }
   ],
   "source": [
    "classes = [\"hat and cap\", \"outer\", \"top\", \"bottom\",\"shoes\"]\n",
    "df_cfm = pd.DataFrame(arr, index = classes, columns = classes)\n",
    "plt.figure(figsize = (10,7))\n",
    "cfm_plot = sn.heatmap(df_cfm, annot=True, cmap='Oranges', fmt='g')"
   ]
  },
  {
   "cell_type": "code",
   "execution_count": null,
   "id": "b431000a",
   "metadata": {},
   "outputs": [],
   "source": []
  },
  {
   "cell_type": "code",
   "execution_count": null,
   "id": "8738ca45",
   "metadata": {},
   "outputs": [],
   "source": []
  }
 ],
 "metadata": {
  "kernelspec": {
   "display_name": "Python 3 (ipykernel)",
   "language": "python",
   "name": "python3"
  },
  "language_info": {
   "codemirror_mode": {
    "name": "ipython",
    "version": 3
   },
   "file_extension": ".py",
   "mimetype": "text/x-python",
   "name": "python",
   "nbconvert_exporter": "python",
   "pygments_lexer": "ipython3",
   "version": "3.8.10"
  }
 },
 "nbformat": 4,
 "nbformat_minor": 5
}
