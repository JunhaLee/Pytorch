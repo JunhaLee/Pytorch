{
 "cells": [
  {
   "cell_type": "code",
   "execution_count": 20,
   "id": "6cdce1a6",
   "metadata": {},
   "outputs": [],
   "source": [
    "import torch\n",
    "import torchvision.transforms as transforms \n",
    "import torch.nn.init\n",
    "from torchsummary import summary as summary_\n",
    "import json\n",
    "from PIL import Image\n",
    "import numpy as np\n",
    "import matplotlib.pyplot as plt\n",
    "import os\n",
    "import glob\n",
    "import torch.nn as nn\n",
    "import torch.optim as optim\n",
    "import torch.nn.functional as F\n",
    "from torch.utils import data\n",
    "import torchvision.datasets as datasets"
   ]
  },
  {
   "cell_type": "code",
   "execution_count": 24,
   "id": "87daaaaf",
   "metadata": {},
   "outputs": [],
   "source": [
    "path_dir = 'LJH/data/product_data/train/Item-Parse_f' #Parse 폴더에서 파일명 불러오기\n",
    "file_list_test = os.listdir(path_dir)"
   ]
  },
  {
   "cell_type": "code",
   "execution_count": 25,
   "id": "b3bf43f6",
   "metadata": {},
   "outputs": [],
   "source": [
    "TRAIN_SIZE = len(file_list_test)\n",
    "label = [0 for i in range(TRAIN_SIZE)] #list형\n",
    "path_dir_img = 'LJH/data/product_data/train/Item-Image'\n",
    "image_w = 256 \n",
    "image_h = 256\n",
    "\n",
    "\n",
    "def make_file_list():\n",
    "    #train_img_list = [0 for i in range(len(file_list_train))]\n",
    "    train_img_list = [0 for i in range(TRAIN_SIZE)]\n",
    "    cnt = 0\n",
    "    #for i in file_list_train:\n",
    "    for i in range(TRAIN_SIZE):\n",
    "    \n",
    "        with open(path_dir +'/'+ file_list_train[cnt], \"r\") as st_json:\n",
    "            load_data = json.load(st_json)\n",
    "\n",
    "        category = load_data.get('category_id') #class 찾아오기\n",
    "        #print(category)\n",
    "        str = file_list_train[cnt].split('.')[0]\n",
    "        train_img_list[cnt] = path_dir_img +'/'+ str+\".jpg\" #이미지파일 파일명 생성\n",
    "        image = Image.open(train_img_list[cnt])\n",
    "        image = image.crop((0,280,720,1000))\n",
    "        image = image.resize((256, 256))\n",
    "        image.save('train/' +str+\".jpg\")\n",
    "        label[cnt] = category\n",
    "\n",
    "        cnt+=1\n",
    "        if cnt % 1000 == 0:\n",
    "            print(cnt)\n",
    "\n",
    "    return train_img_list"
   ]
  },
  {
   "cell_type": "code",
   "execution_count": 27,
   "id": "feba07fb",
   "metadata": {},
   "outputs": [
    {
     "name": "stdout",
     "output_type": "stream",
     "text": [
      "1000\n",
      "2000\n",
      "3000\n",
      "4000\n",
      "5000\n",
      "6000\n",
      "7000\n",
      "8000\n",
      "9000\n",
      "10000\n",
      "11000\n",
      "12000\n",
      "13000\n",
      "14000\n",
      "15000\n",
      "16000\n",
      "17000\n",
      "18000\n",
      "19000\n",
      "20000\n",
      "21000\n",
      "22000\n",
      "23000\n",
      "24000\n",
      "25000\n",
      "26000\n",
      "27000\n",
      "28000\n",
      "29000\n",
      "30000\n",
      "31000\n",
      "32000\n",
      "33000\n"
     ]
    }
   ],
   "source": [
    "train_img_list=make_file_list()"
   ]
  },
  {
   "cell_type": "code",
   "execution_count": null,
   "id": "beec5c02",
   "metadata": {},
   "outputs": [],
   "source": []
  },
  {
   "cell_type": "code",
   "execution_count": null,
   "id": "1b00a4e7",
   "metadata": {},
   "outputs": [],
   "source": []
  },
  {
   "cell_type": "code",
   "execution_count": null,
   "id": "6467a86a",
   "metadata": {},
   "outputs": [],
   "source": []
  }
 ],
 "metadata": {
  "kernelspec": {
   "display_name": "Python 3 (ipykernel)",
   "language": "python",
   "name": "python3"
  },
  "language_info": {
   "codemirror_mode": {
    "name": "ipython",
    "version": 3
   },
   "file_extension": ".py",
   "mimetype": "text/x-python",
   "name": "python",
   "nbconvert_exporter": "python",
   "pygments_lexer": "ipython3",
   "version": "3.8.10"
  }
 },
 "nbformat": 4,
 "nbformat_minor": 5
}
