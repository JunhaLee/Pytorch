{
 "cells": [
  {
   "cell_type": "code",
   "execution_count": 8,
   "id": "2545d564",
   "metadata": {},
   "outputs": [],
   "source": [
    "import os\n",
    "import json\n",
    "from collections import OrderedDict"
   ]
  },
  {
   "cell_type": "code",
   "execution_count": 9,
   "id": "0efe4b47",
   "metadata": {},
   "outputs": [],
   "source": [
    "path_dir = 'aug/' #Parse 폴더에서 파일명 불러오기\n",
    "file_list = os.listdir(path_dir)"
   ]
  },
  {
   "cell_type": "code",
   "execution_count": 11,
   "id": "0f3c3e00",
   "metadata": {},
   "outputs": [],
   "source": [
    "file_data = OrderedDict()\n",
    "\n",
    "cnt=0\n",
    "for i in range(len(file_list)):\n",
    "        \n",
    "    file_data[\"category_id\"] = 2\n",
    "    str = file_list[i].split('.')[0]\n",
    "    file_name = str +\".json\"\n",
    "    \n",
    "    with open('LJH/data/product_data/train/Item-Parse_f/'+ file_name, \"w\", encoding=\"utf-8\") as make_file:\n",
    "        json.dump(file_data, make_file, indent='\\t')\n",
    "            "
   ]
  },
  {
   "cell_type": "code",
   "execution_count": null,
   "id": "5edcc901",
   "metadata": {},
   "outputs": [],
   "source": []
  }
 ],
 "metadata": {
  "kernelspec": {
   "display_name": "Python 3 (ipykernel)",
   "language": "python",
   "name": "python3"
  },
  "language_info": {
   "codemirror_mode": {
    "name": "ipython",
    "version": 3
   },
   "file_extension": ".py",
   "mimetype": "text/x-python",
   "name": "python",
   "nbconvert_exporter": "python",
   "pygments_lexer": "ipython3",
   "version": "3.8.10"
  }
 },
 "nbformat": 4,
 "nbformat_minor": 5
}
